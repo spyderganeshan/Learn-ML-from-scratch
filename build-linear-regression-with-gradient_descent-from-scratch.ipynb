{
 "cells": [
  {
   "cell_type": "code",
   "execution_count": 1,
   "id": "7e76fd28",
   "metadata": {
    "execution": {
     "iopub.execute_input": "2024-06-24T07:40:41.066749Z",
     "iopub.status.busy": "2024-06-24T07:40:41.066172Z",
     "iopub.status.idle": "2024-06-24T07:40:41.073158Z",
     "shell.execute_reply": "2024-06-24T07:40:41.071798Z"
    },
    "papermill": {
     "duration": 0.026044,
     "end_time": "2024-06-24T07:40:41.076043",
     "exception": false,
     "start_time": "2024-06-24T07:40:41.049999",
     "status": "completed"
    },
    "tags": []
   },
   "outputs": [],
   "source": [
    "# lets make a linear regression from scratch"
   ]
  },
  {
   "cell_type": "markdown",
   "id": "648730bb",
   "metadata": {
    "papermill": {
     "duration": 0.013842,
     "end_time": "2024-06-24T07:40:41.103921",
     "exception": false,
     "start_time": "2024-06-24T07:40:41.090079",
     "status": "completed"
    },
    "tags": []
   },
   "source": [
    "# **Comparing Linear Regression**\n",
    "# Implementations: Normal Equation vs. Gradient Descent\n",
    "In this notebook, we will build and compare two different implementations of linear regression: one using the Normal Equation and the other using Gradient Descent. To illustrate the differences and evaluate their performance, we will use a sample dataset from Kaggle. This comparative study aims to provide insights into the practical applications, efficiency, and accuracy of both methods."
   ]
  },
  {
   "cell_type": "code",
   "execution_count": 2,
   "id": "c5f78c4e",
   "metadata": {
    "execution": {
     "iopub.execute_input": "2024-06-24T07:40:41.132434Z",
     "iopub.status.busy": "2024-06-24T07:40:41.132063Z",
     "iopub.status.idle": "2024-06-24T07:40:42.202491Z",
     "shell.execute_reply": "2024-06-24T07:40:42.200849Z"
    },
    "papermill": {
     "duration": 1.089046,
     "end_time": "2024-06-24T07:40:42.206292",
     "exception": false,
     "start_time": "2024-06-24T07:40:41.117246",
     "status": "completed"
    },
    "tags": []
   },
   "outputs": [],
   "source": [
    "# we will be using only these libraries\n",
    "import numpy as np\n",
    "import pandas as pd"
   ]
  },
  {
   "cell_type": "code",
   "execution_count": 3,
   "id": "4a6a8cf0",
   "metadata": {
    "execution": {
     "iopub.execute_input": "2024-06-24T07:40:42.238294Z",
     "iopub.status.busy": "2024-06-24T07:40:42.236947Z",
     "iopub.status.idle": "2024-06-24T07:40:42.285410Z",
     "shell.execute_reply": "2024-06-24T07:40:42.283644Z"
    },
    "papermill": {
     "duration": 0.069631,
     "end_time": "2024-06-24T07:40:42.290722",
     "exception": false,
     "start_time": "2024-06-24T07:40:42.221091",
     "status": "completed"
    },
    "tags": []
   },
   "outputs": [
    {
     "name": "stdout",
     "output_type": "stream",
     "text": [
      "len= 20\n"
     ]
    },
    {
     "data": {
      "text/html": [
       "<div>\n",
       "<style scoped>\n",
       "    .dataframe tbody tr th:only-of-type {\n",
       "        vertical-align: middle;\n",
       "    }\n",
       "\n",
       "    .dataframe tbody tr th {\n",
       "        vertical-align: top;\n",
       "    }\n",
       "\n",
       "    .dataframe thead th {\n",
       "        text-align: right;\n",
       "    }\n",
       "</style>\n",
       "<table border=\"1\" class=\"dataframe\">\n",
       "  <thead>\n",
       "    <tr style=\"text-align: right;\">\n",
       "      <th></th>\n",
       "      <th>age</th>\n",
       "      <th>experience</th>\n",
       "      <th>income</th>\n",
       "    </tr>\n",
       "  </thead>\n",
       "  <tbody>\n",
       "    <tr>\n",
       "      <th>0</th>\n",
       "      <td>25</td>\n",
       "      <td>1</td>\n",
       "      <td>30450</td>\n",
       "    </tr>\n",
       "    <tr>\n",
       "      <th>1</th>\n",
       "      <td>30</td>\n",
       "      <td>3</td>\n",
       "      <td>35670</td>\n",
       "    </tr>\n",
       "    <tr>\n",
       "      <th>2</th>\n",
       "      <td>47</td>\n",
       "      <td>2</td>\n",
       "      <td>31580</td>\n",
       "    </tr>\n",
       "    <tr>\n",
       "      <th>3</th>\n",
       "      <td>32</td>\n",
       "      <td>5</td>\n",
       "      <td>40130</td>\n",
       "    </tr>\n",
       "    <tr>\n",
       "      <th>4</th>\n",
       "      <td>43</td>\n",
       "      <td>10</td>\n",
       "      <td>47830</td>\n",
       "    </tr>\n",
       "  </tbody>\n",
       "</table>\n",
       "</div>"
      ],
      "text/plain": [
       "   age  experience  income\n",
       "0   25           1   30450\n",
       "1   30           3   35670\n",
       "2   47           2   31580\n",
       "3   32           5   40130\n",
       "4   43          10   47830"
      ]
     },
     "execution_count": 3,
     "metadata": {},
     "output_type": "execute_result"
    }
   ],
   "source": [
    "# sample dataset\n",
    "df=pd.read_csv('/kaggle/input/multiple-linear-regression-dataset/multiple_linear_regression_dataset.csv')\n",
    "print('len=',len(df))\n",
    "df.head()"
   ]
  },
  {
   "cell_type": "code",
   "execution_count": 4,
   "id": "0981629f",
   "metadata": {
    "execution": {
     "iopub.execute_input": "2024-06-24T07:40:42.326711Z",
     "iopub.status.busy": "2024-06-24T07:40:42.326194Z",
     "iopub.status.idle": "2024-06-24T07:40:42.332137Z",
     "shell.execute_reply": "2024-06-24T07:40:42.330668Z"
    },
    "papermill": {
     "duration": 0.026302,
     "end_time": "2024-06-24T07:40:42.334863",
     "exception": false,
     "start_time": "2024-06-24T07:40:42.308561",
     "status": "completed"
    },
    "tags": []
   },
   "outputs": [],
   "source": [
    "# first we need to prepare the data for our model to learn and test from \n",
    "# assuming the data is clean"
   ]
  },
  {
   "cell_type": "code",
   "execution_count": 5,
   "id": "23df4f67",
   "metadata": {
    "execution": {
     "iopub.execute_input": "2024-06-24T07:40:42.367756Z",
     "iopub.status.busy": "2024-06-24T07:40:42.367166Z",
     "iopub.status.idle": "2024-06-24T07:40:42.376589Z",
     "shell.execute_reply": "2024-06-24T07:40:42.375156Z"
    },
    "papermill": {
     "duration": 0.02968,
     "end_time": "2024-06-24T07:40:42.379382",
     "exception": false,
     "start_time": "2024-06-24T07:40:42.349702",
     "status": "completed"
    },
    "tags": []
   },
   "outputs": [],
   "source": [
    "# function to split the data into train and test in a ratio\n",
    "def train_test_split(dataset,test_ratio,random_seed):\n",
    "    \n",
    "    shuffled_df = dataset.sample(frac=1,random_state=random_seed).reset_index(drop=True)\n",
    "    # If you use frac=0.5, it will randomly sample and shuffle 50% of the rows in the DataFrame\n",
    "    train_df=shuffled_df.iloc[:-int(20*0.2)]\n",
    "    test_df=shuffled_df.iloc[-int(20*0.2):]\n",
    "    return train_df,test_df"
   ]
  },
  {
   "cell_type": "code",
   "execution_count": 6,
   "id": "ffb1a081",
   "metadata": {
    "execution": {
     "iopub.execute_input": "2024-06-24T07:40:42.412852Z",
     "iopub.status.busy": "2024-06-24T07:40:42.412175Z",
     "iopub.status.idle": "2024-06-24T07:40:42.436268Z",
     "shell.execute_reply": "2024-06-24T07:40:42.434900Z"
    },
    "papermill": {
     "duration": 0.045107,
     "end_time": "2024-06-24T07:40:42.439446",
     "exception": false,
     "start_time": "2024-06-24T07:40:42.394339",
     "status": "completed"
    },
    "tags": []
   },
   "outputs": [
    {
     "data": {
      "text/html": [
       "<div>\n",
       "<style scoped>\n",
       "    .dataframe tbody tr th:only-of-type {\n",
       "        vertical-align: middle;\n",
       "    }\n",
       "\n",
       "    .dataframe tbody tr th {\n",
       "        vertical-align: top;\n",
       "    }\n",
       "\n",
       "    .dataframe thead th {\n",
       "        text-align: right;\n",
       "    }\n",
       "</style>\n",
       "<table border=\"1\" class=\"dataframe\">\n",
       "  <thead>\n",
       "    <tr style=\"text-align: right;\">\n",
       "      <th></th>\n",
       "      <th>age</th>\n",
       "      <th>experience</th>\n",
       "      <th>income</th>\n",
       "    </tr>\n",
       "  </thead>\n",
       "  <tbody>\n",
       "    <tr>\n",
       "      <th>0</th>\n",
       "      <td>25</td>\n",
       "      <td>1</td>\n",
       "      <td>30450</td>\n",
       "    </tr>\n",
       "    <tr>\n",
       "      <th>1</th>\n",
       "      <td>23</td>\n",
       "      <td>1</td>\n",
       "      <td>30870</td>\n",
       "    </tr>\n",
       "    <tr>\n",
       "      <th>2</th>\n",
       "      <td>41</td>\n",
       "      <td>6</td>\n",
       "      <td>38900</td>\n",
       "    </tr>\n",
       "    <tr>\n",
       "      <th>3</th>\n",
       "      <td>30</td>\n",
       "      <td>3</td>\n",
       "      <td>35670</td>\n",
       "    </tr>\n",
       "    <tr>\n",
       "      <th>4</th>\n",
       "      <td>37</td>\n",
       "      <td>5</td>\n",
       "      <td>40250</td>\n",
       "    </tr>\n",
       "  </tbody>\n",
       "</table>\n",
       "</div>"
      ],
      "text/plain": [
       "   age  experience  income\n",
       "0   25           1   30450\n",
       "1   23           1   30870\n",
       "2   41           6   38900\n",
       "3   30           3   35670\n",
       "4   37           5   40250"
      ]
     },
     "execution_count": 6,
     "metadata": {},
     "output_type": "execute_result"
    }
   ],
   "source": [
    "# we can split the data to train test \n",
    "train,test=train_test_split(dataset=df,test_ratio=0.2,random_seed=42)\n",
    "train.head()"
   ]
  },
  {
   "cell_type": "code",
   "execution_count": 7,
   "id": "c29b90d5",
   "metadata": {
    "execution": {
     "iopub.execute_input": "2024-06-24T07:40:42.478086Z",
     "iopub.status.busy": "2024-06-24T07:40:42.476544Z",
     "iopub.status.idle": "2024-06-24T07:40:42.493157Z",
     "shell.execute_reply": "2024-06-24T07:40:42.491734Z"
    },
    "papermill": {
     "duration": 0.03863,
     "end_time": "2024-06-24T07:40:42.497216",
     "exception": false,
     "start_time": "2024-06-24T07:40:42.458586",
     "status": "completed"
    },
    "tags": []
   },
   "outputs": [],
   "source": [
    "# .values convert the dataframe to array representation\n",
    "X_train=train[['age','experience']].values\n",
    "y_train=train['income'].values\n",
    "X_test=test[['age','experience']].values\n",
    "y_test=test['income'].values"
   ]
  },
  {
   "cell_type": "markdown",
   "id": "e0f808a6",
   "metadata": {
    "papermill": {
     "duration": 0.014539,
     "end_time": "2024-06-24T07:40:42.527919",
     "exception": false,
     "start_time": "2024-06-24T07:40:42.513380",
     "status": "completed"
    },
    "tags": []
   },
   "source": [
    "# NORMAL EQUATION\n",
    "The Normal Equation provides a closed-form solution to the linear regression problem, allowing us to directly compute the optimal parameters without iterative optimization"
   ]
  },
  {
   "cell_type": "code",
   "execution_count": 8,
   "id": "e1c6935a",
   "metadata": {
    "execution": {
     "iopub.execute_input": "2024-06-24T07:40:42.560273Z",
     "iopub.status.busy": "2024-06-24T07:40:42.559657Z",
     "iopub.status.idle": "2024-06-24T07:40:42.565973Z",
     "shell.execute_reply": "2024-06-24T07:40:42.564568Z"
    },
    "papermill": {
     "duration": 0.025609,
     "end_time": "2024-06-24T07:40:42.568622",
     "exception": false,
     "start_time": "2024-06-24T07:40:42.543013",
     "status": "completed"
    },
    "tags": []
   },
   "outputs": [],
   "source": [
    "# we will be using normal equation to compute the coeff of the linaer equation\n",
    "# The @ operator is used for matrix multiplication.\n",
    "# normal equation: (X.T @ X)theta=X.T @ y"
   ]
  },
  {
   "attachments": {
    "b933004f-7df8-44d0-ada2-9157cd380663.png": {
     "image/png": "[encoded data removed]"
    }
   },
   "cell_type": "markdown",
   "id": "260b5e82",
   "metadata": {
    "papermill": {
     "duration": 0.01466,
     "end_time": "2024-06-24T07:40:42.598586",
     "exception": false,
     "start_time": "2024-06-24T07:40:42.583926",
     "status": "completed"
    },
    "tags": []
   },
   "source": [
    "![image.png](attachment:b933004f-7df8-44d0-ada2-9157cd380663.png)"
   ]
  },
  {
   "cell_type": "code",
   "execution_count": 9,
   "id": "787afbd9",
   "metadata": {
    "execution": {
     "iopub.execute_input": "2024-06-24T07:40:42.631980Z",
     "iopub.status.busy": "2024-06-24T07:40:42.631481Z",
     "iopub.status.idle": "2024-06-24T07:40:42.638514Z",
     "shell.execute_reply": "2024-06-24T07:40:42.637215Z"
    },
    "papermill": {
     "duration": 0.026622,
     "end_time": "2024-06-24T07:40:42.641366",
     "exception": false,
     "start_time": "2024-06-24T07:40:42.614744",
     "status": "completed"
    },
    "tags": []
   },
   "outputs": [],
   "source": [
    "# create column with value 1 for x0\n",
    "column_of_ones = np.ones((X_train.shape[0], 1))\n",
    "# add column to matrix X_train\n",
    "X = np.c_[column_of_ones, X_train]\n",
    "y = y_train"
   ]
  },
  {
   "cell_type": "markdown",
   "id": "c46abf64",
   "metadata": {
    "papermill": {
     "duration": 0.014331,
     "end_time": "2024-06-24T07:40:42.670391",
     "exception": false,
     "start_time": "2024-06-24T07:40:42.656060",
     "status": "completed"
    },
    "tags": []
   },
   "source": [
    ">**NOTE**: Keep in mind that while the normal equation provides a closed-form solution, it may not be computationally efficient for very large datasets. For large datasets, gradient descent or other optimization algorithms are often preferred"
   ]
  },
  {
   "cell_type": "code",
   "execution_count": 10,
   "id": "986554ab",
   "metadata": {
    "execution": {
     "iopub.execute_input": "2024-06-24T07:40:42.702692Z",
     "iopub.status.busy": "2024-06-24T07:40:42.701625Z",
     "iopub.status.idle": "2024-06-24T07:40:42.728897Z",
     "shell.execute_reply": "2024-06-24T07:40:42.727190Z"
    },
    "papermill": {
     "duration": 0.049528,
     "end_time": "2024-06-24T07:40:42.734593",
     "exception": false,
     "start_time": "2024-06-24T07:40:42.685065",
     "status": "completed"
    },
    "tags": []
   },
   "outputs": [
    {
     "data": {
      "text/plain": [
       "array([31118.15030061,   -91.86306325,  2149.28778307])"
      ]
     },
     "execution_count": 10,
     "metadata": {},
     "output_type": "execute_result"
    }
   ],
   "source": [
    "theta = np.linalg.inv(X.T @ X) @ X.T @ y\n",
    "theta # array([intercept,b1,b2,...])"
   ]
  },
  {
   "cell_type": "code",
   "execution_count": 11,
   "id": "e9c6cfd6",
   "metadata": {
    "execution": {
     "iopub.execute_input": "2024-06-24T07:40:42.799787Z",
     "iopub.status.busy": "2024-06-24T07:40:42.799001Z",
     "iopub.status.idle": "2024-06-24T07:40:42.817448Z",
     "shell.execute_reply": "2024-06-24T07:40:42.815449Z"
    },
    "papermill": {
     "duration": 0.057588,
     "end_time": "2024-06-24T07:40:42.823204",
     "exception": false,
     "start_time": "2024-06-24T07:40:42.765616",
     "status": "completed"
    },
    "tags": []
   },
   "outputs": [
    {
     "data": {
      "text/plain": [
       "(3,)"
      ]
     },
     "execution_count": 11,
     "metadata": {},
     "output_type": "execute_result"
    }
   ],
   "source": [
    "theta.shape"
   ]
  },
  {
   "cell_type": "code",
   "execution_count": 12,
   "id": "f70372d6",
   "metadata": {
    "execution": {
     "iopub.execute_input": "2024-06-24T07:40:42.861117Z",
     "iopub.status.busy": "2024-06-24T07:40:42.859747Z",
     "iopub.status.idle": "2024-06-24T07:40:42.870227Z",
     "shell.execute_reply": "2024-06-24T07:40:42.868937Z"
    },
    "papermill": {
     "duration": 0.031231,
     "end_time": "2024-06-24T07:40:42.873613",
     "exception": false,
     "start_time": "2024-06-24T07:40:42.842382",
     "status": "completed"
    },
    "tags": []
   },
   "outputs": [
    {
     "data": {
      "text/plain": [
       "(4, 3)"
      ]
     },
     "execution_count": 12,
     "metadata": {},
     "output_type": "execute_result"
    }
   ],
   "source": [
    "column_of_ones = np.ones((X_test.shape[0], 1))\n",
    "# add column to matrix X_train\n",
    "X_test1 = np.c_[column_of_ones, X_test]\n",
    "X_test1.shape"
   ]
  },
  {
   "cell_type": "code",
   "execution_count": 13,
   "id": "ea0b7a82",
   "metadata": {
    "execution": {
     "iopub.execute_input": "2024-06-24T07:40:42.910093Z",
     "iopub.status.busy": "2024-06-24T07:40:42.908787Z",
     "iopub.status.idle": "2024-06-24T07:40:42.917671Z",
     "shell.execute_reply": "2024-06-24T07:40:42.916399Z"
    },
    "papermill": {
     "duration": 0.030879,
     "end_time": "2024-06-24T07:40:42.921122",
     "exception": false,
     "start_time": "2024-06-24T07:40:42.890243",
     "status": "completed"
    },
    "tags": []
   },
   "outputs": [
    {
     "data": {
      "text/plain": [
       "array([36683.82034558, 30603.40924938, 52867.62891438, 39292.42344491])"
      ]
     },
     "execution_count": 13,
     "metadata": {},
     "output_type": "execute_result"
    }
   ],
   "source": [
    "y_pred_without_sklearn=X_test1 @ theta\n",
    "y_pred_without_sklearn"
   ]
  },
  {
   "cell_type": "code",
   "execution_count": 14,
   "id": "6ea3383d",
   "metadata": {
    "execution": {
     "iopub.execute_input": "2024-06-24T07:40:42.957299Z",
     "iopub.status.busy": "2024-06-24T07:40:42.956116Z",
     "iopub.status.idle": "2024-06-24T07:40:44.758320Z",
     "shell.execute_reply": "2024-06-24T07:40:44.757014Z"
    },
    "papermill": {
     "duration": 1.823397,
     "end_time": "2024-06-24T07:40:44.761308",
     "exception": false,
     "start_time": "2024-06-24T07:40:42.937911",
     "status": "completed"
    },
    "tags": []
   },
   "outputs": [
    {
     "name": "stdout",
     "output_type": "stream",
     "text": [
      "[36683.82034558 30603.40924938 52867.62891438 39292.42344491]\n",
      "coeff of model= [ -91.86306325 2149.28778307]\n",
      "intercept of model= 31118.150300615525\n"
     ]
    }
   ],
   "source": [
    "# now lets check our moedl against the moedl created using sklearn\n",
    "from sklearn.linear_model import LinearRegression\n",
    "\n",
    "# Creating a Linear Regression model\n",
    "model = LinearRegression()\n",
    "\n",
    "# Fitting the model to the data\n",
    "model.fit(X_train, y_train)\n",
    "\n",
    "Y_pred = model.predict(X_test)\n",
    "print(Y_pred)\n",
    "test['predicted sklearn income']=Y_pred\n",
    "\n",
    "print('coeff of model=',model.coef_)\n",
    "print('intercept of model=',model.intercept_)"
   ]
  },
  {
   "cell_type": "code",
   "execution_count": 15,
   "id": "71435ff0",
   "metadata": {
    "execution": {
     "iopub.execute_input": "2024-06-24T07:40:44.793975Z",
     "iopub.status.busy": "2024-06-24T07:40:44.793445Z",
     "iopub.status.idle": "2024-06-24T07:40:44.811436Z",
     "shell.execute_reply": "2024-06-24T07:40:44.809465Z"
    },
    "papermill": {
     "duration": 0.03829,
     "end_time": "2024-06-24T07:40:44.814927",
     "exception": false,
     "start_time": "2024-06-24T07:40:44.776637",
     "status": "completed"
    },
    "tags": []
   },
   "outputs": [
    {
     "data": {
      "text/html": [
       "<div>\n",
       "<style scoped>\n",
       "    .dataframe tbody tr th:only-of-type {\n",
       "        vertical-align: middle;\n",
       "    }\n",
       "\n",
       "    .dataframe tbody tr th {\n",
       "        vertical-align: top;\n",
       "    }\n",
       "\n",
       "    .dataframe thead th {\n",
       "        text-align: right;\n",
       "    }\n",
       "</style>\n",
       "<table border=\"1\" class=\"dataframe\">\n",
       "  <thead>\n",
       "    <tr style=\"text-align: right;\">\n",
       "      <th></th>\n",
       "      <th>age</th>\n",
       "      <th>experience</th>\n",
       "      <th>income</th>\n",
       "      <th>predicted sklearn income</th>\n",
       "      <th>my model income</th>\n",
       "    </tr>\n",
       "  </thead>\n",
       "  <tbody>\n",
       "    <tr>\n",
       "      <th>16</th>\n",
       "      <td>33</td>\n",
       "      <td>4</td>\n",
       "      <td>37650</td>\n",
       "      <td>36683.820346</td>\n",
       "      <td>36683.820346</td>\n",
       "    </tr>\n",
       "    <tr>\n",
       "      <th>17</th>\n",
       "      <td>29</td>\n",
       "      <td>1</td>\n",
       "      <td>27840</td>\n",
       "      <td>30603.409249</td>\n",
       "      <td>30603.409249</td>\n",
       "    </tr>\n",
       "    <tr>\n",
       "      <th>18</th>\n",
       "      <td>44</td>\n",
       "      <td>12</td>\n",
       "      <td>51300</td>\n",
       "      <td>52867.628914</td>\n",
       "      <td>52867.628914</td>\n",
       "    </tr>\n",
       "    <tr>\n",
       "      <th>19</th>\n",
       "      <td>28</td>\n",
       "      <td>5</td>\n",
       "      <td>41340</td>\n",
       "      <td>39292.423445</td>\n",
       "      <td>39292.423445</td>\n",
       "    </tr>\n",
       "  </tbody>\n",
       "</table>\n",
       "</div>"
      ],
      "text/plain": [
       "    age  experience  income  predicted sklearn income  my model income\n",
       "16   33           4   37650              36683.820346     36683.820346\n",
       "17   29           1   27840              30603.409249     30603.409249\n",
       "18   44          12   51300              52867.628914     52867.628914\n",
       "19   28           5   41340              39292.423445     39292.423445"
      ]
     },
     "execution_count": 15,
     "metadata": {},
     "output_type": "execute_result"
    }
   ],
   "source": [
    "test['my model income']=y_pred_without_sklearn\n",
    "test "
   ]
  },
  {
   "cell_type": "code",
   "execution_count": 16,
   "id": "ea44ccc3",
   "metadata": {
    "execution": {
     "iopub.execute_input": "2024-06-24T07:40:44.848029Z",
     "iopub.status.busy": "2024-06-24T07:40:44.847567Z",
     "iopub.status.idle": "2024-06-24T07:40:44.853263Z",
     "shell.execute_reply": "2024-06-24T07:40:44.851875Z"
    },
    "papermill": {
     "duration": 0.024986,
     "end_time": "2024-06-24T07:40:44.855923",
     "exception": false,
     "start_time": "2024-06-24T07:40:44.830937",
     "status": "completed"
    },
    "tags": []
   },
   "outputs": [],
   "source": [
    "# wow! both the predicted values are the same."
   ]
  },
  {
   "cell_type": "markdown",
   "id": "5b312337",
   "metadata": {
    "papermill": {
     "duration": 0.015074,
     "end_time": "2024-06-24T07:40:44.886265",
     "exception": false,
     "start_time": "2024-06-24T07:40:44.871191",
     "status": "completed"
    },
    "tags": []
   },
   "source": [
    "NOTE: scikit-learn uses an optimized version of the Least Squares method, specifically the Singular Value Decomposition (SVD) approach, which is more numerically stable and efficient than directly computing the Normal Equation"
   ]
  },
  {
   "cell_type": "code",
   "execution_count": 17,
   "id": "bbe06fc0",
   "metadata": {
    "execution": {
     "iopub.execute_input": "2024-06-24T07:40:44.989992Z",
     "iopub.status.busy": "2024-06-24T07:40:44.989471Z",
     "iopub.status.idle": "2024-06-24T07:40:44.995299Z",
     "shell.execute_reply": "2024-06-24T07:40:44.993914Z"
    },
    "papermill": {
     "duration": 0.026385,
     "end_time": "2024-06-24T07:40:44.998752",
     "exception": false,
     "start_time": "2024-06-24T07:40:44.972367",
     "status": "completed"
    },
    "tags": []
   },
   "outputs": [],
   "source": [
    "# now lets build gradient descent from scratch and check it againest gradient descent from the sklearn."
   ]
  },
  {
   "cell_type": "code",
   "execution_count": 18,
   "id": "1cb9320c",
   "metadata": {
    "execution": {
     "iopub.execute_input": "2024-06-24T07:40:45.032272Z",
     "iopub.status.busy": "2024-06-24T07:40:45.031815Z",
     "iopub.status.idle": "2024-06-24T07:40:45.037689Z",
     "shell.execute_reply": "2024-06-24T07:40:45.036430Z"
    },
    "papermill": {
     "duration": 0.02594,
     "end_time": "2024-06-24T07:40:45.040321",
     "exception": false,
     "start_time": "2024-06-24T07:40:45.014381",
     "status": "completed"
    },
    "tags": []
   },
   "outputs": [],
   "source": [
    "X=X_train"
   ]
  },
  {
   "cell_type": "code",
   "execution_count": 19,
   "id": "a6773513",
   "metadata": {
    "execution": {
     "iopub.execute_input": "2024-06-24T07:40:45.073993Z",
     "iopub.status.busy": "2024-06-24T07:40:45.072846Z",
     "iopub.status.idle": "2024-06-24T07:40:45.083518Z",
     "shell.execute_reply": "2024-06-24T07:40:45.082190Z"
    },
    "papermill": {
     "duration": 0.031082,
     "end_time": "2024-06-24T07:40:45.086673",
     "exception": false,
     "start_time": "2024-06-24T07:40:45.055591",
     "status": "completed"
    },
    "tags": []
   },
   "outputs": [
    {
     "data": {
      "text/plain": [
       "(16, 3)"
      ]
     },
     "execution_count": 19,
     "metadata": {},
     "output_type": "execute_result"
    }
   ],
   "source": [
    "# Standardize features\n",
    "column_of_ones = np.ones((X_train.shape[0], 1))\n",
    "X_mean = X_train.mean(axis=0)\n",
    "X_std = X_train.std(axis=0)\n",
    "X = (X - X_mean) / X_std\n",
    "X=np.c_[column_of_ones, X]\n",
    "X.shape"
   ]
  },
  {
   "cell_type": "code",
   "execution_count": 20,
   "id": "711bffc3",
   "metadata": {
    "execution": {
     "iopub.execute_input": "2024-06-24T07:40:45.121573Z",
     "iopub.status.busy": "2024-06-24T07:40:45.121107Z",
     "iopub.status.idle": "2024-06-24T07:40:45.129954Z",
     "shell.execute_reply": "2024-06-24T07:40:45.128446Z"
    },
    "papermill": {
     "duration": 0.02961,
     "end_time": "2024-06-24T07:40:45.132836",
     "exception": false,
     "start_time": "2024-06-24T07:40:45.103226",
     "status": "completed"
    },
    "tags": []
   },
   "outputs": [
    {
     "data": {
      "text/plain": [
       "array([30450, 30870, 38900, 35670, 40250, 41630, 46110, 40130, 44190,\n",
       "       63600, 34800, 31580, 45150, 48700, 47830, 36720])"
      ]
     },
     "execution_count": 20,
     "metadata": {},
     "output_type": "execute_result"
    }
   ],
   "source": [
    "y"
   ]
  },
  {
   "attachments": {
    "e2b9c1c4-35b5-49d8-92cd-8562536edba6.png": {
     "image/png": "[encoded data removed]"
    }
   },
   "cell_type": "markdown",
   "id": "ebb05553",
   "metadata": {
    "papermill": {
     "duration": 0.016462,
     "end_time": "2024-06-24T07:40:45.165512",
     "exception": false,
     "start_time": "2024-06-24T07:40:45.149050",
     "status": "completed"
    },
    "tags": []
   },
   "source": [
    "![image.png](attachment:e2b9c1c4-35b5-49d8-92cd-8562536edba6.png)"
   ]
  },
  {
   "cell_type": "code",
   "execution_count": 21,
   "id": "3c32defa",
   "metadata": {
    "execution": {
     "iopub.execute_input": "2024-06-24T07:40:45.199951Z",
     "iopub.status.busy": "2024-06-24T07:40:45.199455Z",
     "iopub.status.idle": "2024-06-24T07:40:45.208874Z",
     "shell.execute_reply": "2024-06-24T07:40:45.207345Z"
    },
    "papermill": {
     "duration": 0.030175,
     "end_time": "2024-06-24T07:40:45.211968",
     "exception": false,
     "start_time": "2024-06-24T07:40:45.181793",
     "status": "completed"
    },
    "tags": []
   },
   "outputs": [
    {
     "data": {
      "text/plain": [
       "array([ 0.99772375, -0.15690996,  0.96914733])"
      ]
     },
     "execution_count": 21,
     "metadata": {},
     "output_type": "execute_result"
    }
   ],
   "source": [
    "# Initialize parameters\n",
    "theta = np.random.randn(X.shape[1])\n",
    "# Define the learning rate and number of iterations\n",
    "learning_rate = 0.001\n",
    "n_iterations = 500000\n",
    "theta"
   ]
  },
  {
   "cell_type": "code",
   "execution_count": 22,
   "id": "934ee9ff",
   "metadata": {
    "execution": {
     "iopub.execute_input": "2024-06-24T07:40:45.247794Z",
     "iopub.status.busy": "2024-06-24T07:40:45.246578Z",
     "iopub.status.idle": "2024-06-24T07:40:45.253184Z",
     "shell.execute_reply": "2024-06-24T07:40:45.251901Z"
    },
    "papermill": {
     "duration": 0.027563,
     "end_time": "2024-06-24T07:40:45.255916",
     "exception": false,
     "start_time": "2024-06-24T07:40:45.228353",
     "status": "completed"
    },
    "tags": []
   },
   "outputs": [],
   "source": [
    "# Cost function: half Mean Squared Error\n",
    "def compute_cost(X, y, theta, predictions):\n",
    "    m = len(y)\n",
    "    cost = (1 / (2 * m)) * np.sum((predictions - y) ** 2)\n",
    "    return cost"
   ]
  },
  {
   "attachments": {
    "1b2c8090-0065-406a-9554-dbd19e4da75a.png": {
     "image/png": "[encoded data removed]"
    }
   },
   "cell_type": "markdown",
   "id": "5cef0fd3",
   "metadata": {
    "papermill": {
     "duration": 0.015956,
     "end_time": "2024-06-24T07:40:45.288252",
     "exception": false,
     "start_time": "2024-06-24T07:40:45.272296",
     "status": "completed"
    },
    "tags": []
   },
   "source": [
    "gradient of the cost function\n",
    "\n",
    "![image.png](attachment:1b2c8090-0065-406a-9554-dbd19e4da75a.png)"
   ]
  },
  {
   "cell_type": "code",
   "execution_count": 23,
   "id": "75d33f29",
   "metadata": {
    "execution": {
     "iopub.execute_input": "2024-06-24T07:40:45.321912Z",
     "iopub.status.busy": "2024-06-24T07:40:45.321420Z",
     "iopub.status.idle": "2024-06-24T07:40:45.330364Z",
     "shell.execute_reply": "2024-06-24T07:40:45.329103Z"
    },
    "papermill": {
     "duration": 0.029123,
     "end_time": "2024-06-24T07:40:45.333200",
     "exception": false,
     "start_time": "2024-06-24T07:40:45.304077",
     "status": "completed"
    },
    "tags": []
   },
   "outputs": [],
   "source": [
    "# Gradient Descent\n",
    "def gradient_descent(X, y, theta, learning_rate, n_iterations):\n",
    "    m = len(y)\n",
    "    threshold=0.0001\n",
    "    cost_history=[]\n",
    "    for i in range(n_iterations):\n",
    "        predictions = X @ theta\n",
    "        errors = predictions - y\n",
    "        cost_history.append(compute_cost(X, y,theta ,predictions))\n",
    "        gradients = (1 / m) * X.T.dot(errors)\n",
    "        theta -= learning_rate * gradients\n",
    "        \n",
    "        if np.linalg.norm(gradients) < threshold:\n",
    "            print(f\"Early stopping at iteration {i}\")\n",
    "            break\n",
    "    return theta, cost_history"
   ]
  },
  {
   "cell_type": "code",
   "execution_count": 24,
   "id": "997efac5",
   "metadata": {
    "execution": {
     "iopub.execute_input": "2024-06-24T07:40:45.366756Z",
     "iopub.status.busy": "2024-06-24T07:40:45.366291Z",
     "iopub.status.idle": "2024-06-24T07:40:46.853286Z",
     "shell.execute_reply": "2024-06-24T07:40:46.851922Z"
    },
    "papermill": {
     "duration": 1.507167,
     "end_time": "2024-06-24T07:40:46.856168",
     "exception": false,
     "start_time": "2024-06-24T07:40:45.349001",
     "status": "completed"
    },
    "tags": []
   },
   "outputs": [
    {
     "name": "stdout",
     "output_type": "stream",
     "text": [
      "Early stopping at iteration 41347\n"
     ]
    }
   ],
   "source": [
    "# Run gradient descent\n",
    "theta_final, cost_history = gradient_descent(X, y, theta, learning_rate, n_iterations)"
   ]
  },
  {
   "cell_type": "code",
   "execution_count": 25,
   "id": "41cb0cc3",
   "metadata": {
    "execution": {
     "iopub.execute_input": "2024-06-24T07:40:46.891662Z",
     "iopub.status.busy": "2024-06-24T07:40:46.891206Z",
     "iopub.status.idle": "2024-06-24T07:40:46.899597Z",
     "shell.execute_reply": "2024-06-24T07:40:46.898367Z"
    },
    "papermill": {
     "duration": 0.029659,
     "end_time": "2024-06-24T07:40:46.902686",
     "exception": false,
     "start_time": "2024-06-24T07:40:46.873027",
     "status": "completed"
    },
    "tags": []
   },
   "outputs": [
    {
     "data": {
      "text/plain": [
       "array([41036.25      ,  -907.20208481,  8592.9521087 ])"
      ]
     },
     "execution_count": 25,
     "metadata": {},
     "output_type": "execute_result"
    }
   ],
   "source": [
    "theta_final"
   ]
  },
  {
   "cell_type": "code",
   "execution_count": 26,
   "id": "ad00f17c",
   "metadata": {
    "execution": {
     "iopub.execute_input": "2024-06-24T07:40:46.936689Z",
     "iopub.status.busy": "2024-06-24T07:40:46.935857Z",
     "iopub.status.idle": "2024-06-24T07:40:46.944913Z",
     "shell.execute_reply": "2024-06-24T07:40:46.943788Z"
    },
    "papermill": {
     "duration": 0.02909,
     "end_time": "2024-06-24T07:40:46.947682",
     "exception": false,
     "start_time": "2024-06-24T07:40:46.918592",
     "status": "completed"
    },
    "tags": []
   },
   "outputs": [
    {
     "data": {
      "text/plain": [
       "array([ 45470.38963599,  23320.34164913, 104234.78357266,  58599.35216875])"
      ]
     },
     "execution_count": 26,
     "metadata": {},
     "output_type": "execute_result"
    }
   ],
   "source": [
    "column_of_ones = np.ones((X_test.shape[0], 1))\n",
    "X_test2 = np.c_[column_of_ones, X_test]\n",
    "y_pred_with_gradient=X_test2 @ theta_final\n",
    "y_pred_with_gradient"
   ]
  },
  {
   "cell_type": "code",
   "execution_count": 27,
   "id": "691e8469",
   "metadata": {
    "execution": {
     "iopub.execute_input": "2024-06-24T07:40:46.981739Z",
     "iopub.status.busy": "2024-06-24T07:40:46.981340Z",
     "iopub.status.idle": "2024-06-24T07:40:46.995989Z",
     "shell.execute_reply": "2024-06-24T07:40:46.994675Z"
    },
    "papermill": {
     "duration": 0.034787,
     "end_time": "2024-06-24T07:40:46.998587",
     "exception": false,
     "start_time": "2024-06-24T07:40:46.963800",
     "status": "completed"
    },
    "tags": []
   },
   "outputs": [
    {
     "data": {
      "text/html": [
       "<div>\n",
       "<style scoped>\n",
       "    .dataframe tbody tr th:only-of-type {\n",
       "        vertical-align: middle;\n",
       "    }\n",
       "\n",
       "    .dataframe tbody tr th {\n",
       "        vertical-align: top;\n",
       "    }\n",
       "\n",
       "    .dataframe thead th {\n",
       "        text-align: right;\n",
       "    }\n",
       "</style>\n",
       "<table border=\"1\" class=\"dataframe\">\n",
       "  <thead>\n",
       "    <tr style=\"text-align: right;\">\n",
       "      <th></th>\n",
       "      <th>age</th>\n",
       "      <th>experience</th>\n",
       "      <th>income</th>\n",
       "      <th>predicted sklearn income</th>\n",
       "      <th>my model income</th>\n",
       "      <th>gradient_descent income</th>\n",
       "    </tr>\n",
       "  </thead>\n",
       "  <tbody>\n",
       "    <tr>\n",
       "      <th>16</th>\n",
       "      <td>33</td>\n",
       "      <td>4</td>\n",
       "      <td>37650</td>\n",
       "      <td>36683.820346</td>\n",
       "      <td>36683.820346</td>\n",
       "      <td>45470.389636</td>\n",
       "    </tr>\n",
       "    <tr>\n",
       "      <th>17</th>\n",
       "      <td>29</td>\n",
       "      <td>1</td>\n",
       "      <td>27840</td>\n",
       "      <td>30603.409249</td>\n",
       "      <td>30603.409249</td>\n",
       "      <td>23320.341649</td>\n",
       "    </tr>\n",
       "    <tr>\n",
       "      <th>18</th>\n",
       "      <td>44</td>\n",
       "      <td>12</td>\n",
       "      <td>51300</td>\n",
       "      <td>52867.628914</td>\n",
       "      <td>52867.628914</td>\n",
       "      <td>104234.783573</td>\n",
       "    </tr>\n",
       "    <tr>\n",
       "      <th>19</th>\n",
       "      <td>28</td>\n",
       "      <td>5</td>\n",
       "      <td>41340</td>\n",
       "      <td>39292.423445</td>\n",
       "      <td>39292.423445</td>\n",
       "      <td>58599.352169</td>\n",
       "    </tr>\n",
       "  </tbody>\n",
       "</table>\n",
       "</div>"
      ],
      "text/plain": [
       "    age  experience  income  predicted sklearn income  my model income  \\\n",
       "16   33           4   37650              36683.820346     36683.820346   \n",
       "17   29           1   27840              30603.409249     30603.409249   \n",
       "18   44          12   51300              52867.628914     52867.628914   \n",
       "19   28           5   41340              39292.423445     39292.423445   \n",
       "\n",
       "    gradient_descent income  \n",
       "16             45470.389636  \n",
       "17             23320.341649  \n",
       "18            104234.783573  \n",
       "19             58599.352169  "
      ]
     },
     "execution_count": 27,
     "metadata": {},
     "output_type": "execute_result"
    }
   ],
   "source": [
    "test['gradient_descent income']=y_pred_with_gradient\n",
    "test "
   ]
  },
  {
   "cell_type": "code",
   "execution_count": 28,
   "id": "7a004279",
   "metadata": {
    "execution": {
     "iopub.execute_input": "2024-06-24T07:40:47.034758Z",
     "iopub.status.busy": "2024-06-24T07:40:47.034359Z",
     "iopub.status.idle": "2024-06-24T07:40:47.040518Z",
     "shell.execute_reply": "2024-06-24T07:40:47.039060Z"
    },
    "papermill": {
     "duration": 0.027671,
     "end_time": "2024-06-24T07:40:47.043335",
     "exception": false,
     "start_time": "2024-06-24T07:40:47.015664",
     "status": "completed"
    },
    "tags": []
   },
   "outputs": [],
   "source": [
    "# The SGDRegressor is a linear model performing stochastic Gradient Descent (SGD) for linear regression tasks"
   ]
  },
  {
   "cell_type": "code",
   "execution_count": 29,
   "id": "19050f30",
   "metadata": {
    "execution": {
     "iopub.execute_input": "2024-06-24T07:40:47.080457Z",
     "iopub.status.busy": "2024-06-24T07:40:47.080036Z",
     "iopub.status.idle": "2024-06-24T07:40:47.092431Z",
     "shell.execute_reply": "2024-06-24T07:40:47.091245Z"
    },
    "papermill": {
     "duration": 0.034334,
     "end_time": "2024-06-24T07:40:47.095393",
     "exception": false,
     "start_time": "2024-06-24T07:40:47.061059",
     "status": "completed"
    },
    "tags": []
   },
   "outputs": [],
   "source": [
    "from sklearn.linear_model import SGDRegressor\n",
    "from sklearn.preprocessing import StandardScaler\n",
    "\n",
    "scaler = StandardScaler()\n",
    "scaler.fit(X_train)\n",
    "\n",
    "X_train_scaled = scaler.transform(X_train)\n",
    "\n",
    "model = SGDRegressor()\n",
    "model.fit(X_train_scaled, y)\n",
    "prediction=model.predict(X_test)"
   ]
  },
  {
   "cell_type": "code",
   "execution_count": 30,
   "id": "8e859a35",
   "metadata": {
    "execution": {
     "iopub.execute_input": "2024-06-24T07:40:47.131652Z",
     "iopub.status.busy": "2024-06-24T07:40:47.131142Z",
     "iopub.status.idle": "2024-06-24T07:40:47.149029Z",
     "shell.execute_reply": "2024-06-24T07:40:47.147683Z"
    },
    "papermill": {
     "duration": 0.039559,
     "end_time": "2024-06-24T07:40:47.151844",
     "exception": false,
     "start_time": "2024-06-24T07:40:47.112285",
     "status": "completed"
    },
    "tags": []
   },
   "outputs": [
    {
     "data": {
      "text/html": [
       "<div>\n",
       "<style scoped>\n",
       "    .dataframe tbody tr th:only-of-type {\n",
       "        vertical-align: middle;\n",
       "    }\n",
       "\n",
       "    .dataframe tbody tr th {\n",
       "        vertical-align: top;\n",
       "    }\n",
       "\n",
       "    .dataframe thead th {\n",
       "        text-align: right;\n",
       "    }\n",
       "</style>\n",
       "<table border=\"1\" class=\"dataframe\">\n",
       "  <thead>\n",
       "    <tr style=\"text-align: right;\">\n",
       "      <th></th>\n",
       "      <th>age</th>\n",
       "      <th>experience</th>\n",
       "      <th>income</th>\n",
       "      <th>predicted sklearn income</th>\n",
       "      <th>my model income</th>\n",
       "      <th>gradient_descent income</th>\n",
       "      <th>sklearn_gradient_descent income</th>\n",
       "    </tr>\n",
       "  </thead>\n",
       "  <tbody>\n",
       "    <tr>\n",
       "      <th>16</th>\n",
       "      <td>33</td>\n",
       "      <td>4</td>\n",
       "      <td>37650</td>\n",
       "      <td>36683.820346</td>\n",
       "      <td>36683.820346</td>\n",
       "      <td>45470.389636</td>\n",
       "      <td>45867</td>\n",
       "    </tr>\n",
       "    <tr>\n",
       "      <th>17</th>\n",
       "      <td>29</td>\n",
       "      <td>1</td>\n",
       "      <td>27840</td>\n",
       "      <td>30603.409249</td>\n",
       "      <td>30603.409249</td>\n",
       "      <td>23320.341649</td>\n",
       "      <td>23702</td>\n",
       "    </tr>\n",
       "    <tr>\n",
       "      <th>18</th>\n",
       "      <td>44</td>\n",
       "      <td>12</td>\n",
       "      <td>51300</td>\n",
       "      <td>52867.628914</td>\n",
       "      <td>52867.628914</td>\n",
       "      <td>104234.783573</td>\n",
       "      <td>104676</td>\n",
       "    </tr>\n",
       "    <tr>\n",
       "      <th>19</th>\n",
       "      <td>28</td>\n",
       "      <td>5</td>\n",
       "      <td>41340</td>\n",
       "      <td>39292.423445</td>\n",
       "      <td>39292.423445</td>\n",
       "      <td>58599.352169</td>\n",
       "      <td>58915</td>\n",
       "    </tr>\n",
       "  </tbody>\n",
       "</table>\n",
       "</div>"
      ],
      "text/plain": [
       "    age  experience  income  predicted sklearn income  my model income  \\\n",
       "16   33           4   37650              36683.820346     36683.820346   \n",
       "17   29           1   27840              30603.409249     30603.409249   \n",
       "18   44          12   51300              52867.628914     52867.628914   \n",
       "19   28           5   41340              39292.423445     39292.423445   \n",
       "\n",
       "    gradient_descent income  sklearn_gradient_descent income  \n",
       "16             45470.389636                            45867  \n",
       "17             23320.341649                            23702  \n",
       "18            104234.783573                           104676  \n",
       "19             58599.352169                            58915  "
      ]
     },
     "execution_count": 30,
     "metadata": {},
     "output_type": "execute_result"
    }
   ],
   "source": [
    "test['sklearn_gradient_descent income']=prediction\n",
    "test['sklearn_gradient_descent income'] =test['sklearn_gradient_descent income'].astype(int) \n",
    "test"
   ]
  },
  {
   "cell_type": "code",
   "execution_count": 31,
   "id": "5cd6eaec",
   "metadata": {
    "execution": {
     "iopub.execute_input": "2024-06-24T07:40:47.187389Z",
     "iopub.status.busy": "2024-06-24T07:40:47.186916Z",
     "iopub.status.idle": "2024-06-24T07:40:47.192233Z",
     "shell.execute_reply": "2024-06-24T07:40:47.190902Z"
    },
    "papermill": {
     "duration": 0.026218,
     "end_time": "2024-06-24T07:40:47.194706",
     "exception": false,
     "start_time": "2024-06-24T07:40:47.168488",
     "status": "completed"
    },
    "tags": []
   },
   "outputs": [],
   "source": [
    "# our custom made gradient descent and the gradient descent from the sklearn\n",
    "# are producing almost same result"
   ]
  },
  {
   "cell_type": "markdown",
   "id": "50b9fa20",
   "metadata": {
    "papermill": {
     "duration": 0.016823,
     "end_time": "2024-06-24T07:40:47.228196",
     "exception": false,
     "start_time": "2024-06-24T07:40:47.211373",
     "status": "completed"
    },
    "tags": []
   },
   "source": [
    "But why is the actual values and predicted values not the same?"
   ]
  },
  {
   "cell_type": "code",
   "execution_count": null,
   "id": "08cb56d7",
   "metadata": {
    "papermill": {
     "duration": 0.016439,
     "end_time": "2024-06-24T07:40:47.261542",
     "exception": false,
     "start_time": "2024-06-24T07:40:47.245103",
     "status": "completed"
    },
    "tags": []
   },
   "outputs": [],
   "source": []
  }
 ],
 "metadata": {
  "kaggle": {
   "accelerator": "none",
   "dataSources": [
    {
     "datasetId": 2408725,
     "sourceId": 4069533,
     "sourceType": "datasetVersion"
    }
   ],
   "dockerImageVersionId": 30626,
   "isGpuEnabled": false,
   "isInternetEnabled": true,
   "language": "python",
   "sourceType": "notebook"
  },
  "kernelspec": {
   "display_name": "Python 3",
   "language": "python",
   "name": "python3"
  },
  "language_info": {
   "codemirror_mode": {
    "name": "ipython",
    "version": 3
   },
   "file_extension": ".py",
   "mimetype": "text/x-python",
   "name": "python",
   "nbconvert_exporter": "python",
   "pygments_lexer": "ipython3",
   "version": "3.10.12"
  },
  "papermill": {
   "default_parameters": {},
   "duration": 12.06387,
   "end_time": "2024-06-24T07:40:48.203275",
   "environment_variables": {},
   "exception": null,
   "input_path": "__notebook__.ipynb",
   "output_path": "__notebook__.ipynb",
   "parameters": {},
   "start_time": "2024-06-24T07:40:36.139405",
   "version": "2.4.0"
  }
 },
 "nbformat": 4,
 "nbformat_minor": 5
}
