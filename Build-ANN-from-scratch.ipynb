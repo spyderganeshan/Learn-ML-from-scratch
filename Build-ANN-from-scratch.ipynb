{
 "cells": [
  {
   "cell_type": "code",
   "execution_count": 1,
   "id": "1f8fa35a",
   "metadata": {
    "execution": {
     "iopub.execute_input": "2024-07-16T06:22:46.520974Z",
     "iopub.status.busy": "2024-07-16T06:22:46.520530Z",
     "iopub.status.idle": "2024-07-16T06:22:46.526709Z",
     "shell.execute_reply": "2024-07-16T06:22:46.525515Z"
    },
    "papermill": {
     "duration": 0.015549,
     "end_time": "2024-07-16T06:22:46.529447",
     "exception": false,
     "start_time": "2024-07-16T06:22:46.513898",
     "status": "completed"
    },
    "tags": []
   },
   "outputs": [],
   "source": [
    "# Hi"
   ]
  },
  {
   "cell_type": "markdown",
   "id": "125616b4",
   "metadata": {
    "papermill": {
     "duration": 0.004417,
     "end_time": "2024-07-16T06:22:46.539318",
     "exception": false,
     "start_time": "2024-07-16T06:22:46.534901",
     "status": "completed"
    },
    "tags": []
   },
   "source": [
    "**Let's first build an ANN using sklearn and tensorflow for reference.**"
   ]
  },
  {
   "cell_type": "code",
   "execution_count": 2,
   "id": "79135a97",
   "metadata": {
    "execution": {
     "iopub.execute_input": "2024-07-16T06:22:46.551409Z",
     "iopub.status.busy": "2024-07-16T06:22:46.550992Z",
     "iopub.status.idle": "2024-07-16T06:23:08.484726Z",
     "shell.execute_reply": "2024-07-16T06:23:08.483517Z"
    },
    "papermill": {
     "duration": 21.942981,
     "end_time": "2024-07-16T06:23:08.487230",
     "exception": false,
     "start_time": "2024-07-16T06:22:46.544249",
     "status": "completed"
    },
    "tags": []
   },
   "outputs": [
    {
     "name": "stderr",
     "output_type": "stream",
     "text": [
      "2024-07-16 06:22:50.744953: E external/local_xla/xla/stream_executor/cuda/cuda_dnn.cc:9261] Unable to register cuDNN factory: Attempting to register factory for plugin cuDNN when one has already been registered\n",
      "2024-07-16 06:22:50.745087: E external/local_xla/xla/stream_executor/cuda/cuda_fft.cc:607] Unable to register cuFFT factory: Attempting to register factory for plugin cuFFT when one has already been registered\n",
      "2024-07-16 06:22:50.918813: E external/local_xla/xla/stream_executor/cuda/cuda_blas.cc:1515] Unable to register cuBLAS factory: Attempting to register factory for plugin cuBLAS when one has already been registered\n"
     ]
    },
    {
     "name": "stdout",
     "output_type": "stream",
     "text": [
      "Epoch 1/20\n"
     ]
    },
    {
     "name": "stderr",
     "output_type": "stream",
     "text": [
      "/opt/conda/lib/python3.10/site-packages/keras/src/layers/core/dense.py:87: UserWarning: Do not pass an `input_shape`/`input_dim` argument to a layer. When using Sequential models, prefer using an `Input(shape)` object as the first layer in the model instead.\n",
      "  super().__init__(activity_regularizer=activity_regularizer, **kwargs)\n"
     ]
    },
    {
     "name": "stdout",
     "output_type": "stream",
     "text": [
      "\u001b[1m12/12\u001b[0m \u001b[32m━━━━━━━━━━━━━━━━━━━━\u001b[0m\u001b[37m\u001b[0m \u001b[1m2s\u001b[0m 22ms/step - accuracy: 0.3716 - loss: 0.7076 - val_accuracy: 0.6154 - val_loss: 0.6858\n",
      "Epoch 2/20\n",
      "\u001b[1m12/12\u001b[0m \u001b[32m━━━━━━━━━━━━━━━━━━━━\u001b[0m\u001b[37m\u001b[0m \u001b[1m0s\u001b[0m 5ms/step - accuracy: 0.6789 - loss: 0.6768 - val_accuracy: 0.6813 - val_loss: 0.6580\n",
      "Epoch 3/20\n",
      "\u001b[1m12/12\u001b[0m \u001b[32m━━━━━━━━━━━━━━━━━━━━\u001b[0m\u001b[37m\u001b[0m \u001b[1m0s\u001b[0m 4ms/step - accuracy: 0.7033 - loss: 0.6486 - val_accuracy: 0.6923 - val_loss: 0.6349\n",
      "Epoch 4/20\n",
      "\u001b[1m12/12\u001b[0m \u001b[32m━━━━━━━━━━━━━━━━━━━━\u001b[0m\u001b[37m\u001b[0m \u001b[1m0s\u001b[0m 6ms/step - accuracy: 0.7163 - loss: 0.6245 - val_accuracy: 0.6813 - val_loss: 0.6131\n",
      "Epoch 5/20\n",
      "\u001b[1m12/12\u001b[0m \u001b[32m━━━━━━━━━━━━━━━━━━━━\u001b[0m\u001b[37m\u001b[0m \u001b[1m0s\u001b[0m 5ms/step - accuracy: 0.7017 - loss: 0.6114 - val_accuracy: 0.7363 - val_loss: 0.5926\n",
      "Epoch 6/20\n",
      "\u001b[1m12/12\u001b[0m \u001b[32m━━━━━━━━━━━━━━━━━━━━\u001b[0m\u001b[37m\u001b[0m \u001b[1m0s\u001b[0m 4ms/step - accuracy: 0.7383 - loss: 0.5889 - val_accuracy: 0.7802 - val_loss: 0.5724\n",
      "Epoch 7/20\n",
      "\u001b[1m12/12\u001b[0m \u001b[32m━━━━━━━━━━━━━━━━━━━━\u001b[0m\u001b[37m\u001b[0m \u001b[1m0s\u001b[0m 4ms/step - accuracy: 0.8063 - loss: 0.5665 - val_accuracy: 0.8132 - val_loss: 0.5514\n",
      "Epoch 8/20\n",
      "\u001b[1m12/12\u001b[0m \u001b[32m━━━━━━━━━━━━━━━━━━━━\u001b[0m\u001b[37m\u001b[0m \u001b[1m0s\u001b[0m 4ms/step - accuracy: 0.8349 - loss: 0.5450 - val_accuracy: 0.8352 - val_loss: 0.5299\n",
      "Epoch 9/20\n",
      "\u001b[1m12/12\u001b[0m \u001b[32m━━━━━━━━━━━━━━━━━━━━\u001b[0m\u001b[37m\u001b[0m \u001b[1m0s\u001b[0m 5ms/step - accuracy: 0.8655 - loss: 0.5237 - val_accuracy: 0.8352 - val_loss: 0.5078\n",
      "Epoch 10/20\n",
      "\u001b[1m12/12\u001b[0m \u001b[32m━━━━━━━━━━━━━━━━━━━━\u001b[0m\u001b[37m\u001b[0m \u001b[1m0s\u001b[0m 4ms/step - accuracy: 0.8947 - loss: 0.4977 - val_accuracy: 0.8462 - val_loss: 0.4855\n",
      "Epoch 11/20\n",
      "\u001b[1m12/12\u001b[0m \u001b[32m━━━━━━━━━━━━━━━━━━━━\u001b[0m\u001b[37m\u001b[0m \u001b[1m0s\u001b[0m 4ms/step - accuracy: 0.8983 - loss: 0.4729 - val_accuracy: 0.8681 - val_loss: 0.4623\n",
      "Epoch 12/20\n",
      "\u001b[1m12/12\u001b[0m \u001b[32m━━━━━━━━━━━━━━━━━━━━\u001b[0m\u001b[37m\u001b[0m \u001b[1m0s\u001b[0m 4ms/step - accuracy: 0.9253 - loss: 0.4504 - val_accuracy: 0.9011 - val_loss: 0.4395\n",
      "Epoch 13/20\n",
      "\u001b[1m12/12\u001b[0m \u001b[32m━━━━━━━━━━━━━━━━━━━━\u001b[0m\u001b[37m\u001b[0m \u001b[1m0s\u001b[0m 4ms/step - accuracy: 0.9171 - loss: 0.4337 - val_accuracy: 0.9231 - val_loss: 0.4171\n",
      "Epoch 14/20\n",
      "\u001b[1m12/12\u001b[0m \u001b[32m━━━━━━━━━━━━━━━━━━━━\u001b[0m\u001b[37m\u001b[0m \u001b[1m0s\u001b[0m 5ms/step - accuracy: 0.9434 - loss: 0.3977 - val_accuracy: 0.9231 - val_loss: 0.3952\n",
      "Epoch 15/20\n",
      "\u001b[1m12/12\u001b[0m \u001b[32m━━━━━━━━━━━━━━━━━━━━\u001b[0m\u001b[37m\u001b[0m \u001b[1m0s\u001b[0m 4ms/step - accuracy: 0.9313 - loss: 0.3747 - val_accuracy: 0.9231 - val_loss: 0.3745\n",
      "Epoch 16/20\n",
      "\u001b[1m12/12\u001b[0m \u001b[32m━━━━━━━━━━━━━━━━━━━━\u001b[0m\u001b[37m\u001b[0m \u001b[1m0s\u001b[0m 5ms/step - accuracy: 0.9377 - loss: 0.3602 - val_accuracy: 0.9231 - val_loss: 0.3551\n",
      "Epoch 17/20\n",
      "\u001b[1m12/12\u001b[0m \u001b[32m━━━━━━━━━━━━━━━━━━━━\u001b[0m\u001b[37m\u001b[0m \u001b[1m0s\u001b[0m 4ms/step - accuracy: 0.9405 - loss: 0.3356 - val_accuracy: 0.9231 - val_loss: 0.3367\n",
      "Epoch 18/20\n",
      "\u001b[1m12/12\u001b[0m \u001b[32m━━━━━━━━━━━━━━━━━━━━\u001b[0m\u001b[37m\u001b[0m \u001b[1m0s\u001b[0m 5ms/step - accuracy: 0.9508 - loss: 0.3098 - val_accuracy: 0.9341 - val_loss: 0.3199\n",
      "Epoch 19/20\n",
      "\u001b[1m12/12\u001b[0m \u001b[32m━━━━━━━━━━━━━━━━━━━━\u001b[0m\u001b[37m\u001b[0m \u001b[1m0s\u001b[0m 4ms/step - accuracy: 0.9580 - loss: 0.2884 - val_accuracy: 0.9341 - val_loss: 0.3040\n",
      "Epoch 20/20\n",
      "\u001b[1m12/12\u001b[0m \u001b[32m━━━━━━━━━━━━━━━━━━━━\u001b[0m\u001b[37m\u001b[0m \u001b[1m0s\u001b[0m 4ms/step - accuracy: 0.9397 - loss: 0.2901 - val_accuracy: 0.9451 - val_loss: 0.2893\n",
      "\u001b[1m4/4\u001b[0m \u001b[32m━━━━━━━━━━━━━━━━━━━━\u001b[0m\u001b[37m\u001b[0m \u001b[1m0s\u001b[0m 3ms/step - accuracy: 0.9651 - loss: 0.2563 \n",
      "Test Accuracy---------: 0.96\n"
     ]
    }
   ],
   "source": [
    "import numpy as np\n",
    "from sklearn.datasets import load_breast_cancer\n",
    "from sklearn.model_selection import train_test_split\n",
    "from sklearn.preprocessing import StandardScaler\n",
    "from tensorflow.keras.models import Sequential\n",
    "from tensorflow.keras.layers import Dense\n",
    "from tensorflow.keras.optimizers import Adam\n",
    "from tensorflow.keras.losses import BinaryCrossentropy\n",
    "from sklearn.metrics import classification_report, confusion_matrix\n",
    "\n",
    "# Load the dataset\n",
    "data = load_breast_cancer()\n",
    "X = data.data\n",
    "y = data.target\n",
    "\n",
    "# Split the data into training and testing sets\n",
    "X_train, X_test, y_train, y_test = train_test_split(X, y, test_size=0.2, random_state=42)\n",
    "\n",
    "# Standardize features\n",
    "scaler = StandardScaler()\n",
    "X_train = scaler.fit_transform(X_train)\n",
    "X_test = scaler.transform(X_test)\n",
    "\n",
    "# Initialize the ANN with layers defined in the constructor\n",
    "model = Sequential([\n",
    "    Dense(units=16, activation='sigmoid', input_shape=(X_train.shape[1],)),\n",
    "    Dense(units=8, activation='sigmoid'),\n",
    "    Dense(units=1, activation='sigmoid')  # For binary classification\n",
    "])\n",
    "\n",
    "# Compile the ANN\n",
    "model.compile(optimizer=Adam(), loss=BinaryCrossentropy(), metrics=['accuracy'])\n",
    "\n",
    "# Train the model\n",
    "history = model.fit(X_train, y_train, epochs=20, validation_split=0.2)\n",
    "\n",
    "# Evaluate the model\n",
    "loss, accuracy = model.evaluate(X_test, y_test)\n",
    "print(f'Test Accuracy---------: {accuracy:.2f}')\n",
    "\n"
   ]
  },
  {
   "cell_type": "markdown",
   "id": "81b39d51",
   "metadata": {
    "papermill": {
     "duration": 0.010334,
     "end_time": "2024-07-16T06:23:08.508589",
     "exception": false,
     "start_time": "2024-07-16T06:23:08.498255",
     "status": "completed"
    },
    "tags": []
   },
   "source": [
    "# Build custom ANN\n",
    "> * **Input Layer**: Receives input features.\n",
    ">* **Hidden Layers**: Processes inputs using weighted sums, biases, and activation functions.\n",
    ">* **Output Layer**: Produces final output (probability for binary classification).\n",
    ">* **Forward Propagation**: Passes inputs through the network to generate predictions.\n",
    ">* **Loss Function**: Measures error between predicted and true outputs.\n",
    ">* **Backpropagation**: Calculates gradients of loss with respect to weights and biases.\n",
    ">* **Gradient Descent**: Updates weights and biases to minimize loss.\n",
    ">* **Iterative Training**: Repeats the process to optimize the network's performance."
   ]
  },
  {
   "cell_type": "code",
   "execution_count": 3,
   "id": "37f28d2b",
   "metadata": {
    "execution": {
     "iopub.execute_input": "2024-07-16T06:23:08.532495Z",
     "iopub.status.busy": "2024-07-16T06:23:08.531716Z",
     "iopub.status.idle": "2024-07-16T06:23:08.546370Z",
     "shell.execute_reply": "2024-07-16T06:23:08.545171Z"
    },
    "papermill": {
     "duration": 0.029468,
     "end_time": "2024-07-16T06:23:08.548990",
     "exception": false,
     "start_time": "2024-07-16T06:23:08.519522",
     "status": "completed"
    },
    "tags": []
   },
   "outputs": [],
   "source": [
    "class Dense:\n",
    "    def __init__(self,n_inputs,no_of_neurons,activation_function):\n",
    "        self.activation_function = activation_function\n",
    "        self.no_of_neurons = no_of_neurons\n",
    "        self.weights = self.initialize_weights(n_inputs,no_of_neurons) # n_inputs = no of featurees\n",
    "        self.bias = self.initialize_weights(no_of_neurons)\n",
    "        self.Z = None\n",
    "        self.H = None\n",
    "        self.d_weights = None\n",
    "        self.d_bias = None\n",
    "    \n",
    "    def initialize_weights(self,*args):\n",
    "        \"\"\"\n",
    "        Initialize the weights and bias with random values\n",
    "        \"\"\"\n",
    "        if len(args) == 2:\n",
    "            print(\"initializing weights\")\n",
    "            weights = 0.10*np.random.rand(args[0],args[1])\n",
    "            print(\"shape_weights=\",weights.shape)\n",
    "            return weights\n",
    "        elif len(args) == 1:\n",
    "            print(\"initializing bias\")\n",
    "            bias = np.zeros((1,args[0]))\n",
    "            print(\"shape_bias=\",bias.shape)\n",
    "            return bias\n",
    "    \n",
    "    def forward(self,inputs):\n",
    "        \"\"\"\n",
    "        Perform forward propagation on the layer\n",
    "        \"\"\"\n",
    "        self.Z = np.dot(inputs,self.weights) + self.bias\n",
    "        self.H = self.activation(self.Z)\n",
    "        return self.H\n",
    "        \n",
    "    def activation(self,inputs):\n",
    "        \"\"\"\n",
    "        Apply activation function on the input based on the activation function given as parameter on Dense()\n",
    "        \"\"\"\n",
    "        if self.activation_function ==\"sigmoid\":\n",
    "            output = 1/(1+np.exp(-inputs))\n",
    "        return output\n",
    "    \n",
    "    def activation_derivative(self,inputs):\n",
    "        \"\"\"\n",
    "        Computes the derivative of the activatn function\n",
    "        \"\"\"\n",
    "        if self.activation_function == \"sigmoid\":\n",
    "            output = inputs*(1-inputs)\n",
    "        return output\n",
    "            "
   ]
  },
  {
   "cell_type": "code",
   "execution_count": 4,
   "id": "8d2ef5c5",
   "metadata": {
    "execution": {
     "iopub.execute_input": "2024-07-16T06:23:08.572667Z",
     "iopub.status.busy": "2024-07-16T06:23:08.572205Z",
     "iopub.status.idle": "2024-07-16T06:23:08.602272Z",
     "shell.execute_reply": "2024-07-16T06:23:08.601116Z"
    },
    "papermill": {
     "duration": 0.045,
     "end_time": "2024-07-16T06:23:08.604850",
     "exception": false,
     "start_time": "2024-07-16T06:23:08.559850",
     "status": "completed"
    },
    "tags": []
   },
   "outputs": [],
   "source": [
    "class Sequential:\n",
    "    def __init__(self,layers_list):\n",
    "        self.layers_list = layers_list   \n",
    "        \n",
    "    def convert_df_to_tensor(self, df):\n",
    "        \"\"\"\n",
    "        Converts a DataFrame or an array into a NumPy array suitable for model input.\n",
    "        \"\"\"\n",
    "        if df.ndim == 1:\n",
    "            output = np.expand_dims(df,axis=1)\n",
    "            return output\n",
    "        output = np.array(df)\n",
    "        return output\n",
    "    \n",
    "    def train(self,X,y):\n",
    "        \"\"\"\n",
    "        Performs forward propagation through all layers and calculates the loss and accuracy\n",
    "        \"\"\"\n",
    "        output = X\n",
    "        for layer in self.layers_list:\n",
    "            output = layer.forward(output)\n",
    "        loss=self.cal_loss(y_pred=output,y_true = y)\n",
    "        metric=self.cal_metric(y_pred_prob=output,y_true = y)\n",
    "        # print(\"forward_propagation\\n=\",output)\n",
    "        # print(\"loss=\",loss)\n",
    "        # print(\"metric=\",metric)\n",
    "        return output,loss,metric\n",
    "\n",
    "    def evaluate(self,X,y):\n",
    "        \"\"\"\n",
    "        Evaluates the model on the provided data by performing forward propagation and calculating the loss and accuracy.\n",
    "        \"\"\"\n",
    "        output = X\n",
    "        for layer in self.layers_list:\n",
    "            output = layer.activation(np.dot(output,layer.weights) + layer.bias)\n",
    "        loss=self.cal_loss(y_pred=output,y_true = y)\n",
    "        metric=self.cal_metric(y_pred_prob=output,y_true = y)\n",
    "        return output,loss,metric\n",
    "        \n",
    "    def fit(self,train,val,epochs):\n",
    "        \"\"\"\n",
    "        Trains the model for a specified number of epochs\n",
    "        \"\"\"\n",
    "        # convert the data frame to tensor input\n",
    "        X_train=self.convert_df_to_tensor(train[0])\n",
    "        y_train=self.convert_df_to_tensor(train[1])\n",
    "        X_val=self.convert_df_to_tensor(val[0])\n",
    "        y_val=self.convert_df_to_tensor(val[1])\n",
    "        print(f\"X_train={X_train.shape},y_train={y_train.shape},X_val={X_val.shape},y_val{y_val.shape}\")\n",
    "        \n",
    "        for epoch in range(epochs):\n",
    "            train_output,train_loss,train_accuracy = self.train(X_train,y_train)\n",
    "            val_output,val_loss,val_accuracy = self.evaluate(X_val,y_val)\n",
    "            print(f'epoch={epoch+1},loss={train_loss},accuracy={train_accuracy},validation loss={val_loss},validation accuracy={val_accuracy}')\n",
    "            self.back_propagation(X=X_train,y_pred=train_output,y_true=y_train) \n",
    "            self.update_weights()\n",
    "        \n",
    "        train_output,train_loss,train_accuracy = self.evaluate(X_train,y_train)\n",
    "        val_output,val_loss,val_accuracy = self.evaluate(X_val,y_val)\n",
    "        print(f'loss={train_loss},accuracy={train_accuracy},validation loss={val_loss},validation accuracy={val_accuracy}')\n",
    "\n",
    "    def compile_(self,optimizer,loss,metrics,learning_rate):\n",
    "        \"\"\"\n",
    "        Configures the model for training by specifying the optimizer, loss function, metrics, and learning rate\n",
    "        \"\"\"\n",
    "        self.optimizer=optimizer\n",
    "        self.loss_function=loss\n",
    "        self.metrics=metrics\n",
    "        self.learning_rate=learning_rate\n",
    "        \n",
    "    def back_propagation(self,X,y_pred,y_true):\n",
    "        \"\"\"\n",
    "        Implements the backpropagation algorithm to compute gradients for the weights and biases.\n",
    "        \"\"\"\n",
    "        m = X.shape[0]\n",
    "        # print(\"perform backpropagation\")\n",
    "        for i in range(len(self.layers_list)-1, -1, -1):  \n",
    "            current_layer = self.layers_list[i]\n",
    "            current_layer_H = current_layer.H\n",
    "            if i == 0 :\n",
    "                prefix_layer_H = X\n",
    "            else:\n",
    "                prefix_layer = self.layers_list[i-1]\n",
    "                prefix_layer_H = prefix_layer.H\n",
    "                \n",
    "            if i == len(self.layers_list)-1:\n",
    "                # output layer\n",
    "                error = y_pred-y_true\n",
    "                current_layer.d_weights = (1/m)*np.dot(prefix_layer_H.T,error)\n",
    "                current_layer.d_bias = (1/m)*np.sum(error,axis=0,keepdims=True)\n",
    "                suffix_layer_d_H = error\n",
    "            else:\n",
    "                suffix_layer = self.layers_list[i+1]\n",
    "                \n",
    "                current_layer_d_H = np.dot(suffix_layer_d_H,suffix_layer.weights.T)* current_layer.activation_derivative(current_layer_H)\n",
    "                current_layer.d_weights  = (1/m)*np.dot(prefix_layer_H.T,current_layer_d_H)\n",
    "                current_layer.d_bias = (1/m)*np.sum(current_layer_d_H,axis=0,keepdims=True)\n",
    "                \n",
    "                suffix_layer_d_H = current_layer_d_H\n",
    "        \n",
    "    def update_weights(self):\n",
    "        \"\"\"\n",
    "        Updates the weights and biases of each layer using the gradients calculated during backpropagation\n",
    "        \"\"\"\n",
    "        if self.optimizer == \"Stochastic_Gradient_Descent\":\n",
    "            for layer in self.layers_list:\n",
    "                layer.weights = layer.weights-self.learning_rate * layer.d_weights\n",
    "                layer.bias = layer.bias-self.learning_rate * layer.d_bias\n",
    "    \n",
    "    def cal_loss(self,y_pred,y_true):\n",
    "        epsilon = 1e-15  # To prevent log(0)\n",
    "        y_pred = np.clip(y_pred, epsilon, 1 - epsilon)  # Clipping predicted values\n",
    "        if self.loss_function == \"Binary_Cross_Entropy\":\n",
    "            # Binary cross-entropy for a single label\n",
    "            loss = y_true * np.log(y_pred) + (1 - y_true) * np.log(1 - y_pred)\n",
    "            return -np.mean(loss)\n",
    "            \n",
    "    def cal_metric(self,y_pred_prob,y_true):\n",
    "        class_target=y_true\n",
    "        for metric in self.metrics:\n",
    "            if metric == \"accuracy\":\n",
    "                threshold = 0.5\n",
    "                predictions = (y_pred_prob >= threshold).astype(int)\n",
    "                accuracy = np.mean(predictions == class_target)\n",
    "                return accuracy"
   ]
  },
  {
   "cell_type": "code",
   "execution_count": 5,
   "id": "4792b190",
   "metadata": {
    "execution": {
     "iopub.execute_input": "2024-07-16T06:23:08.628326Z",
     "iopub.status.busy": "2024-07-16T06:23:08.627900Z",
     "iopub.status.idle": "2024-07-16T06:23:08.650349Z",
     "shell.execute_reply": "2024-07-16T06:23:08.648965Z"
    },
    "papermill": {
     "duration": 0.037642,
     "end_time": "2024-07-16T06:23:08.653424",
     "exception": false,
     "start_time": "2024-07-16T06:23:08.615782",
     "status": "completed"
    },
    "tags": []
   },
   "outputs": [],
   "source": [
    "# Load the dataset\n",
    "data = load_breast_cancer()\n",
    "X = data.data\n",
    "y = data.target\n",
    "\n",
    "# Split data into training + validation and test sets\n",
    "X_train, X_test, y_train, y_test = train_test_split(X, y, test_size=0.2)\n",
    "\n",
    "# Further split the training data into training and validation sets\n",
    "X_train, X_val, y_train, y_val = train_test_split(X_train, y_train, test_size=0.25)\n",
    "\n",
    "# Standardize features\n",
    "scaler = StandardScaler()\n",
    "X_train = scaler.fit_transform(X_train)\n",
    "X_test = scaler.transform(X_test)\n",
    "X_val = scaler.transform(X_val)"
   ]
  },
  {
   "cell_type": "code",
   "execution_count": 6,
   "id": "2f3eada1",
   "metadata": {
    "execution": {
     "iopub.execute_input": "2024-07-16T06:23:08.677518Z",
     "iopub.status.busy": "2024-07-16T06:23:08.677087Z",
     "iopub.status.idle": "2024-07-16T06:23:08.752513Z",
     "shell.execute_reply": "2024-07-16T06:23:08.751211Z"
    },
    "papermill": {
     "duration": 0.092027,
     "end_time": "2024-07-16T06:23:08.756340",
     "exception": false,
     "start_time": "2024-07-16T06:23:08.664313",
     "status": "completed"
    },
    "tags": []
   },
   "outputs": [
    {
     "name": "stdout",
     "output_type": "stream",
     "text": [
      "initializing weights\n",
      "shape_weights= (30, 8)\n",
      "initializing bias\n",
      "shape_bias= (1, 8)\n",
      "initializing weights\n",
      "shape_weights= (8, 5)\n",
      "initializing bias\n",
      "shape_bias= (1, 5)\n",
      "initializing weights\n",
      "shape_weights= (5, 1)\n",
      "initializing bias\n",
      "shape_bias= (1, 1)\n",
      "X_train=(341, 30),y_train=(341, 1),X_val=(114, 30),y_val(114, 1)\n",
      "epoch=1,loss=0.677155806343178,accuracy=0.6304985337243402,validation loss=0.6814844392165865,validation accuracy=0.6052631578947368\n",
      "epoch=2,loss=0.665397532773401,accuracy=0.6304985337243402,validation loss=0.6750334477113479,validation accuracy=0.6052631578947368\n",
      "epoch=3,loss=0.6634075445617121,accuracy=0.6304985337243402,validation loss=0.6750759742719905,validation accuracy=0.6052631578947368\n",
      "epoch=4,loss=0.6628413213960958,accuracy=0.6304985337243402,validation loss=0.675314724299564,validation accuracy=0.6052631578947368\n",
      "epoch=5,loss=0.6625076039289984,accuracy=0.6304985337243402,validation loss=0.6753118581637583,validation accuracy=0.6052631578947368\n",
      "epoch=6,loss=0.6622245611482086,accuracy=0.6304985337243402,validation loss=0.6751727888731921,validation accuracy=0.6052631578947368\n",
      "epoch=7,loss=0.6619623121825414,accuracy=0.6304985337243402,validation loss=0.6749797849895388,validation accuracy=0.6052631578947368\n",
      "epoch=8,loss=0.6617148862442968,accuracy=0.6304985337243402,validation loss=0.6747713080777374,validation accuracy=0.6052631578947368\n",
      "epoch=9,loss=0.6614802423543414,accuracy=0.6304985337243402,validation loss=0.6745631043773137,validation accuracy=0.6052631578947368\n",
      "epoch=10,loss=0.6612570534716954,accuracy=0.6304985337243402,validation loss=0.6743610289355337,validation accuracy=0.6052631578947368\n",
      "epoch=11,loss=0.6610441701003678,accuracy=0.6304985337243402,validation loss=0.674166855262073,validation accuracy=0.6052631578947368\n",
      "epoch=12,loss=0.66084052280538,accuracy=0.6304985337243402,validation loss=0.6739807125690026,validation accuracy=0.6052631578947368\n",
      "epoch=13,loss=0.6606450987429279,accuracy=0.6304985337243402,validation loss=0.673802082791847,validation accuracy=0.6052631578947368\n",
      "epoch=14,loss=0.6604569313395139,accuracy=0.6304985337243402,validation loss=0.6736302040831031,validation accuracy=0.6052631578947368\n",
      "epoch=15,loss=0.6602750926209628,accuracy=0.6304985337243402,validation loss=0.67346423207213,validation accuracy=0.6052631578947368\n",
      "epoch=16,loss=0.6600986862551338,accuracy=0.6304985337243402,validation loss=0.6733033022975929,validation accuracy=0.6052631578947368\n",
      "epoch=17,loss=0.6599268408832941,accuracy=0.6304985337243402,validation loss=0.6731465521902295,validation accuracy=0.6052631578947368\n",
      "epoch=18,loss=0.6597587035977608,accuracy=0.6304985337243402,validation loss=0.6729931264142501,validation accuracy=0.6052631578947368\n",
      "epoch=19,loss=0.659593433480556,accuracy=0.6304985337243402,validation loss=0.6728421753004787,validation accuracy=0.6052631578947368\n",
      "epoch=20,loss=0.6594301951296042,accuracy=0.6304985337243402,validation loss=0.6726928503477176,validation accuracy=0.6052631578947368\n",
      "epoch=21,loss=0.6592681520999679,accuracy=0.6304985337243402,validation loss=0.6725442984002279,validation accuracy=0.6052631578947368\n",
      "epoch=22,loss=0.6591064601850974,accuracy=0.6304985337243402,validation loss=0.6723956551272305,validation accuracy=0.6052631578947368\n",
      "epoch=23,loss=0.6589442604588133,accuracy=0.6304985337243402,validation loss=0.6722460380187247,validation accuracy=0.6052631578947368\n",
      "epoch=24,loss=0.6587806719931659,accuracy=0.6304985337243402,validation loss=0.6720945389358797,validation accuracy=0.6052631578947368\n",
      "epoch=25,loss=0.6586147841605096,accuracy=0.6304985337243402,validation loss=0.6719402161757205,validation accuracy=0.6052631578947368\n",
      "epoch=26,loss=0.6584456484200307,accuracy=0.6304985337243402,validation loss=0.6717820859713597,validation accuracy=0.6052631578947368\n",
      "epoch=27,loss=0.6582722694795454,accuracy=0.6304985337243402,validation loss=0.6716191133267297,validation accuracy=0.6052631578947368\n",
      "epoch=28,loss=0.65809359571249,accuracy=0.6304985337243402,validation loss=0.6714502020684991,validation accuracy=0.6052631578947368\n",
      "epoch=29,loss=0.6579085086976554,accuracy=0.6304985337243402,validation loss=0.6712741839833481,validation accuracy=0.6052631578947368\n",
      "epoch=30,loss=0.6577158117352753,accuracy=0.6304985337243402,validation loss=0.6710898068942458,validation accuracy=0.6052631578947368\n",
      "epoch=31,loss=0.6575142171775739,accuracy=0.6304985337243402,validation loss=0.6708957215140735,validation accuracy=0.6052631578947368\n",
      "epoch=32,loss=0.6573023323948811,accuracy=0.6304985337243402,validation loss=0.6706904668986965,validation accuracy=0.6052631578947368\n",
      "epoch=33,loss=0.6570786441800531,accuracy=0.6304985337243402,validation loss=0.6704724543044651,validation accuracy=0.6052631578947368\n",
      "epoch=34,loss=0.656841501374511,accuracy=0.6304985337243402,validation loss=0.6702399492374926,validation accuracy=0.6052631578947368\n",
      "epoch=35,loss=0.6565890954791573,accuracy=0.6304985337243402,validation loss=0.6699910514644356,validation accuracy=0.6052631578947368\n",
      "epoch=36,loss=0.6563194389934819,accuracy=0.6304985337243402,validation loss=0.6697236727377861,validation accuracy=0.6052631578947368\n",
      "epoch=37,loss=0.6560303412073398,accuracy=0.6304985337243402,validation loss=0.6694355119740457,validation accuracy=0.6052631578947368\n",
      "epoch=38,loss=0.6557193811536169,accuracy=0.6304985337243402,validation loss=0.6691240276122996,validation accuracy=0.6052631578947368\n",
      "epoch=39,loss=0.6553838774182962,accuracy=0.6304985337243402,validation loss=0.6687864068758111,validation accuracy=0.6052631578947368\n",
      "epoch=40,loss=0.6550208544999087,accuracy=0.6304985337243402,validation loss=0.6684195316632848,validation accuracy=0.6052631578947368\n",
      "epoch=41,loss=0.6546270054164673,accuracy=0.6304985337243402,validation loss=0.6680199408130703,validation accuracy=0.6052631578947368\n",
      "epoch=42,loss=0.654198650279125,accuracy=0.6304985337243402,validation loss=0.6675837885174629,validation accuracy=0.6052631578947368\n",
      "epoch=43,loss=0.6537316905934066,accuracy=0.6304985337243402,validation loss=0.6671067987210723,validation accuracy=0.6052631578947368\n",
      "epoch=44,loss=0.6532215591175639,accuracy=0.6304985337243402,validation loss=0.6665842154235985,validation accuracy=0.6052631578947368\n",
      "epoch=45,loss=0.6526631652110506,accuracy=0.6304985337243402,validation loss=0.6660107489308984,validation accuracy=0.6052631578947368\n",
      "epoch=46,loss=0.6520508357529626,accuracy=0.6304985337243402,validation loss=0.6653805182670626,validation accuracy=0.6052631578947368\n",
      "epoch=47,loss=0.6513782519095854,accuracy=0.6304985337243402,validation loss=0.6646869901824795,validation accuracy=0.6052631578947368\n",
      "epoch=48,loss=0.6506383822906835,accuracy=0.6304985337243402,validation loss=0.6639229154756697,validation accuracy=0.6052631578947368\n",
      "epoch=49,loss=0.6498234133629301,accuracy=0.6304985337243402,validation loss=0.6630802636945187,validation accuracy=0.6052631578947368\n",
      "epoch=50,loss=0.6489246783894586,accuracy=0.6304985337243402,validation loss=0.6621501576953097,validation accuracy=0.6052631578947368\n",
      "epoch=51,loss=0.64793258663438,accuracy=0.6304985337243402,validation loss=0.6611228100080861,validation accuracy=0.6052631578947368\n",
      "epoch=52,loss=0.6468365550984794,accuracy=0.6304985337243402,validation loss=0.6599874634661014,validation accuracy=0.6052631578947368\n",
      "epoch=53,loss=0.6456249456127054,accuracy=0.6304985337243402,validation loss=0.6587323390733322,validation accuracy=0.6052631578947368\n",
      "epoch=54,loss=0.6442850106690713,accuracy=0.6304985337243402,validation loss=0.6573445945583088,validation accuracy=0.6052631578947368\n",
      "epoch=55,loss=0.6428028518557827,accuracy=0.6304985337243402,validation loss=0.6558102974284536,validation accuracy=0.6052631578947368\n",
      "epoch=56,loss=0.6411633951090967,accuracy=0.6304985337243402,validation loss=0.6541144165151528,validation accuracy=0.6052631578947368\n",
      "epoch=57,loss=0.6393503871105521,accuracy=0.6304985337243402,validation loss=0.6522408358968504,validation accuracy=0.6052631578947368\n",
      "epoch=58,loss=0.6373464169557151,accuracy=0.6304985337243402,validation loss=0.6501723946235863,validation accuracy=0.6052631578947368\n",
      "epoch=59,loss=0.6351329666275343,accuracy=0.6304985337243402,validation loss=0.6478909547883356,validation accuracy=0.6052631578947368\n",
      "epoch=60,loss=0.6326904927937408,accuracy=0.6304985337243402,validation loss=0.6453774992012234,validation accuracy=0.6052631578947368\n",
      "epoch=61,loss=0.6299985410524918,accuracy=0.6304985337243402,validation loss=0.6426122583091728,validation accuracy=0.6052631578947368\n",
      "epoch=62,loss=0.6270358921043059,accuracy=0.6304985337243402,validation loss=0.6395748642561937,validation accuracy=0.6052631578947368\n",
      "epoch=63,loss=0.6237807376609451,accuracy=0.6304985337243402,validation loss=0.6362445283910807,validation accuracy=0.6052631578947368\n",
      "epoch=64,loss=0.6202108825225354,accuracy=0.6304985337243402,validation loss=0.6326002374615289,validation accuracy=0.6052631578947368\n",
      "epoch=65,loss=0.6163039684987969,accuracy=0.6304985337243402,validation loss=0.6286209635463813,validation accuracy=0.6052631578947368\n",
      "epoch=66,loss=0.6120377159966012,accuracy=0.6304985337243402,validation loss=0.6242858837265653,validation accuracy=0.6052631578947368\n",
      "epoch=67,loss=0.6073901802657329,accuracy=0.6304985337243402,validation loss=0.6195746076224947,validation accuracy=0.6052631578947368\n",
      "epoch=68,loss=0.6023400213727684,accuracy=0.6304985337243402,validation loss=0.6144674139829348,validation accuracy=0.6052631578947368\n",
      "epoch=69,loss=0.5968667895853385,accuracy=0.6304985337243402,validation loss=0.6089455009560182,validation accuracy=0.6052631578947368\n",
      "epoch=70,loss=0.5909512304266092,accuracy=0.6304985337243402,validation loss=0.6029912577733516,validation accuracy=0.6052631578947368\n",
      "epoch=71,loss=0.5845756155904044,accuracy=0.6304985337243402,validation loss=0.596588567601248,validation accuracy=0.6052631578947368\n",
      "epoch=72,loss=0.5777241067341505,accuracy=0.6304985337243402,validation loss=0.5897231517628226,validation accuracy=0.6052631578947368\n",
      "epoch=73,loss=0.5703831587536915,accuracy=0.6304985337243402,validation loss=0.5823829643260158,validation accuracy=0.6052631578947368\n",
      "epoch=74,loss=0.5625419677147224,accuracy=0.6304985337243402,validation loss=0.5745586435299971,validation accuracy=0.6052631578947368\n",
      "epoch=75,loss=0.554192966603327,accuracy=0.6304985337243402,validation loss=0.566244023261343,validation accuracy=0.6052631578947368\n",
      "epoch=76,loss=0.5453323697780175,accuracy=0.6304985337243402,validation loss=0.5574367042156259,validation accuracy=0.6052631578947368\n",
      "epoch=77,loss=0.5359607642638499,accuracy=0.6304985337243402,validation loss=0.5481386803347764,validation accuracy=0.6052631578947368\n",
      "epoch=78,loss=0.5260837418670096,accuracy=0.6304985337243402,validation loss=0.5383570106134905,validation accuracy=0.6052631578947368\n",
      "epoch=79,loss=0.515712558880519,accuracy=0.6304985337243402,validation loss=0.5281045177637596,validation accuracy=0.6052631578947368\n",
      "epoch=80,loss=0.5048647981945295,accuracy=0.6920821114369502,validation loss=0.5174004818649867,validation accuracy=0.7017543859649122\n",
      "epoch=81,loss=0.49356499116513725,accuracy=0.7624633431085044,validation loss=0.506271278478545,validation accuracy=0.8070175438596491\n",
      "epoch=82,loss=0.48184513500984,accuracy=0.8211143695014663,validation loss=0.49475088857518623,validation accuracy=0.8508771929824561\n",
      "epoch=83,loss=0.46974502010097485,accuracy=0.8592375366568915,validation loss=0.4828811869070262,validation accuracy=0.8771929824561403\n",
      "epoch=84,loss=0.45731226741131864,accuracy=0.8826979472140762,validation loss=0.4707119038136622,validation accuracy=0.9035087719298246\n",
      "epoch=85,loss=0.44460197781257055,accuracy=0.9002932551319648,validation loss=0.45830016148478403,validation accuracy=0.9122807017543859\n",
      "epoch=86,loss=0.4316759184797624,accuracy=0.9208211143695014,validation loss=0.44570951576176854,validation accuracy=0.9210526315789473\n",
      "epoch=87,loss=0.4186012186696439,accuracy=0.9237536656891495,validation loss=0.43300848916237694,validation accuracy=0.9298245614035088\n",
      "epoch=88,loss=0.4054486114054425,accuracy=0.9266862170087976,validation loss=0.42026865231690197,validation accuracy=0.9298245614035088\n",
      "epoch=89,loss=0.392290325657967,accuracy=0.9296187683284457,validation loss=0.4075623842676479,validation accuracy=0.9298245614035088\n",
      "epoch=90,loss=0.37919778848762437,accuracy=0.9354838709677419,validation loss=0.39496049865813926,validation accuracy=0.9298245614035088\n",
      "epoch=91,loss=0.36623932381386015,accuracy=0.9354838709677419,validation loss=0.38252994741136837,validation accuracy=0.9298245614035088\n",
      "epoch=92,loss=0.3534780276048501,accuracy=0.9413489736070382,validation loss=0.3703317997073984,validation accuracy=0.9210526315789473\n",
      "epoch=93,loss=0.34096996237353067,accuracy=0.9472140762463344,validation loss=0.35841964683455174,validation accuracy=0.9210526315789473\n",
      "epoch=94,loss=0.32876275934301274,accuracy=0.9472140762463344,validation loss=0.3468385167225499,validation accuracy=0.9210526315789473\n",
      "epoch=95,loss=0.31689466008546496,accuracy=0.9472140762463344,validation loss=0.3356243130494588,validation accuracy=0.9210526315789473\n",
      "epoch=96,loss=0.3053939842296647,accuracy=0.9472140762463344,validation loss=0.32480373761639453,validation accuracy=0.9210526315789473\n",
      "epoch=97,loss=0.29427898453100465,accuracy=0.9501466275659824,validation loss=0.3143946197753678,validation accuracy=0.9210526315789473\n",
      "epoch=98,loss=0.2835580501727764,accuracy=0.9589442815249267,validation loss=0.3044065648253545,validation accuracy=0.9298245614035088\n",
      "epoch=99,loss=0.27323024903226223,accuracy=0.9589442815249267,validation loss=0.2948418414551849,validation accuracy=0.9385964912280702\n",
      "epoch=100,loss=0.2632862693926438,accuracy=0.9618768328445748,validation loss=0.2856964516201921,validation accuracy=0.956140350877193\n",
      "loss=0.25370994249307616,accuracy=0.9618768328445748,validation loss=0.276961359471475,validation accuracy=0.956140350877193\n"
     ]
    }
   ],
   "source": [
    "model = Sequential([\n",
    "    Dense(X_train.shape[1],8, activation_function='sigmoid'),  \n",
    "    Dense(8,5, activation_function='sigmoid'),  \n",
    "    Dense(5,1, activation_function='sigmoid')  \n",
    "])\n",
    "model.compile_(optimizer='Stochastic_Gradient_Descent',loss='Binary_Cross_Entropy',metrics=['accuracy'],learning_rate=1)\n",
    "model.fit(train=(X_train,y_train),val=(X_val,y_val),epochs=100)"
   ]
  },
  {
   "cell_type": "code",
   "execution_count": 7,
   "id": "712bc5db",
   "metadata": {
    "execution": {
     "iopub.execute_input": "2024-07-16T06:23:08.780952Z",
     "iopub.status.busy": "2024-07-16T06:23:08.780436Z",
     "iopub.status.idle": "2024-07-16T06:23:08.789129Z",
     "shell.execute_reply": "2024-07-16T06:23:08.787650Z"
    },
    "papermill": {
     "duration": 0.023962,
     "end_time": "2024-07-16T06:23:08.791787",
     "exception": false,
     "start_time": "2024-07-16T06:23:08.767825",
     "status": "completed"
    },
    "tags": []
   },
   "outputs": [
    {
     "name": "stdout",
     "output_type": "stream",
     "text": [
      "test_dataset loss= 0.26273758059684904\n",
      "test_dataset accuracy= 0.956140350877193\n"
     ]
    }
   ],
   "source": [
    "_,loss,metric=model.evaluate(X_test,np.expand_dims(y_test,axis=1))\n",
    "print(\"test_dataset loss=\",loss)\n",
    "print(\"test_dataset accuracy=\",metric)"
   ]
  },
  {
   "cell_type": "markdown",
   "id": "6a126bbe",
   "metadata": {
    "papermill": {
     "duration": 0.01191,
     "end_time": "2024-07-16T06:23:08.815898",
     "exception": false,
     "start_time": "2024-07-16T06:23:08.803988",
     "status": "completed"
    },
    "tags": []
   },
   "source": [
    "**to do**\n",
    "* add more activation functions\n",
    "* add more optimization methods\n",
    "* add more metric\n",
    "* make modification for regression"
   ]
  },
  {
   "cell_type": "code",
   "execution_count": null,
   "id": "428f22e4",
   "metadata": {
    "papermill": {
     "duration": 0.011831,
     "end_time": "2024-07-16T06:23:08.839407",
     "exception": false,
     "start_time": "2024-07-16T06:23:08.827576",
     "status": "completed"
    },
    "tags": []
   },
   "outputs": [],
   "source": []
  }
 ],
 "metadata": {
  "kaggle": {
   "accelerator": "none",
   "dataSources": [],
   "dockerImageVersionId": 30732,
   "isGpuEnabled": false,
   "isInternetEnabled": true,
   "language": "python",
   "sourceType": "notebook"
  },
  "kernelspec": {
   "display_name": "Python 3",
   "language": "python",
   "name": "python3"
  },
  "language_info": {
   "codemirror_mode": {
    "name": "ipython",
    "version": 3
   },
   "file_extension": ".py",
   "mimetype": "text/x-python",
   "name": "python",
   "nbconvert_exporter": "python",
   "pygments_lexer": "ipython3",
   "version": "3.10.13"
  },
  "papermill": {
   "default_parameters": {},
   "duration": 28.275741,
   "end_time": "2024-07-16T06:23:11.478073",
   "environment_variables": {},
   "exception": null,
   "input_path": "__notebook__.ipynb",
   "output_path": "__notebook__.ipynb",
   "parameters": {},
   "start_time": "2024-07-16T06:22:43.202332",
   "version": "2.5.0"
  }
 },
 "nbformat": 4,
 "nbformat_minor": 5
}
