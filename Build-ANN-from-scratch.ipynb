{
 "cells": [
  {
   "cell_type": "code",
   "execution_count": null,
   "id": "903b8645",
   "metadata": {
    "execution": {
     "iopub.execute_input": "2024-07-15T12:00:20.445825Z",
     "iopub.status.busy": "2024-07-15T12:00:20.445426Z",
     "iopub.status.idle": "2024-07-15T12:00:20.455555Z",
     "shell.execute_reply": "2024-07-15T12:00:20.453004Z",
     "shell.execute_reply.started": "2024-07-15T12:00:20.445794Z"
    },
    "papermill": {
     "duration": 0.004263,
     "end_time": "2024-07-15T15:40:47.287649",
     "exception": false,
     "start_time": "2024-07-15T15:40:47.283386",
     "status": "completed"
    },
    "tags": []
   },
   "outputs": [],
   "source": []
  },
  {
   "cell_type": "markdown",
   "id": "96eef40d",
   "metadata": {
    "papermill": {
     "duration": 0.003581,
     "end_time": "2024-07-15T15:40:47.294929",
     "exception": false,
     "start_time": "2024-07-15T15:40:47.291348",
     "status": "completed"
    },
    "tags": []
   },
   "source": [
    "**Let's first build an ANN using sklearn and tensorflow for reference.**"
   ]
  },
  {
   "cell_type": "code",
   "execution_count": 1,
   "id": "47d822b8",
   "metadata": {
    "execution": {
     "iopub.execute_input": "2024-07-15T15:40:47.303612Z",
     "iopub.status.busy": "2024-07-15T15:40:47.303206Z",
     "iopub.status.idle": "2024-07-15T15:41:08.074420Z",
     "shell.execute_reply": "2024-07-15T15:41:08.072924Z"
    },
    "papermill": {
     "duration": 20.778669,
     "end_time": "2024-07-15T15:41:08.077071",
     "exception": false,
     "start_time": "2024-07-15T15:40:47.298402",
     "status": "completed"
    },
    "tags": []
   },
   "outputs": [
    {
     "name": "stderr",
     "output_type": "stream",
     "text": [
      "2024-07-15 15:40:51.320230: E external/local_xla/xla/stream_executor/cuda/cuda_dnn.cc:9261] Unable to register cuDNN factory: Attempting to register factory for plugin cuDNN when one has already been registered\n",
      "2024-07-15 15:40:51.320399: E external/local_xla/xla/stream_executor/cuda/cuda_fft.cc:607] Unable to register cuFFT factory: Attempting to register factory for plugin cuFFT when one has already been registered\n",
      "2024-07-15 15:40:51.506294: E external/local_xla/xla/stream_executor/cuda/cuda_blas.cc:1515] Unable to register cuBLAS factory: Attempting to register factory for plugin cuBLAS when one has already been registered\n"
     ]
    },
    {
     "name": "stdout",
     "output_type": "stream",
     "text": [
      "Epoch 1/20\n"
     ]
    },
    {
     "name": "stderr",
     "output_type": "stream",
     "text": [
      "/opt/conda/lib/python3.10/site-packages/keras/src/layers/core/dense.py:87: UserWarning: Do not pass an `input_shape`/`input_dim` argument to a layer. When using Sequential models, prefer using an `Input(shape)` object as the first layer in the model instead.\n",
      "  super().__init__(activity_regularizer=activity_regularizer, **kwargs)\n"
     ]
    },
    {
     "name": "stdout",
     "output_type": "stream",
     "text": [
      "\u001b[1m12/12\u001b[0m \u001b[32m━━━━━━━━━━━━━━━━━━━━\u001b[0m\u001b[37m\u001b[0m \u001b[1m2s\u001b[0m 21ms/step - accuracy: 0.3966 - loss: 0.8219 - val_accuracy: 0.3626 - val_loss: 0.7959\n",
      "Epoch 2/20\n",
      "\u001b[1m12/12\u001b[0m \u001b[32m━━━━━━━━━━━━━━━━━━━━\u001b[0m\u001b[37m\u001b[0m \u001b[1m0s\u001b[0m 4ms/step - accuracy: 0.3852 - loss: 0.7699 - val_accuracy: 0.3626 - val_loss: 0.7353\n",
      "Epoch 3/20\n",
      "\u001b[1m12/12\u001b[0m \u001b[32m━━━━━━━━━━━━━━━━━━━━\u001b[0m\u001b[37m\u001b[0m \u001b[1m0s\u001b[0m 4ms/step - accuracy: 0.3573 - loss: 0.7311 - val_accuracy: 0.3626 - val_loss: 0.6833\n",
      "Epoch 4/20\n",
      "\u001b[1m12/12\u001b[0m \u001b[32m━━━━━━━━━━━━━━━━━━━━\u001b[0m\u001b[37m\u001b[0m \u001b[1m0s\u001b[0m 4ms/step - accuracy: 0.4054 - loss: 0.6681 - val_accuracy: 0.5824 - val_loss: 0.6399\n",
      "Epoch 5/20\n",
      "\u001b[1m12/12\u001b[0m \u001b[32m━━━━━━━━━━━━━━━━━━━━\u001b[0m\u001b[37m\u001b[0m \u001b[1m0s\u001b[0m 4ms/step - accuracy: 0.6595 - loss: 0.6268 - val_accuracy: 0.8132 - val_loss: 0.6024\n",
      "Epoch 6/20\n",
      "\u001b[1m12/12\u001b[0m \u001b[32m━━━━━━━━━━━━━━━━━━━━\u001b[0m\u001b[37m\u001b[0m \u001b[1m0s\u001b[0m 5ms/step - accuracy: 0.8380 - loss: 0.6016 - val_accuracy: 0.9011 - val_loss: 0.5715\n",
      "Epoch 7/20\n",
      "\u001b[1m12/12\u001b[0m \u001b[32m━━━━━━━━━━━━━━━━━━━━\u001b[0m\u001b[37m\u001b[0m \u001b[1m0s\u001b[0m 5ms/step - accuracy: 0.8906 - loss: 0.5671 - val_accuracy: 0.9121 - val_loss: 0.5440\n",
      "Epoch 8/20\n",
      "\u001b[1m12/12\u001b[0m \u001b[32m━━━━━━━━━━━━━━━━━━━━\u001b[0m\u001b[37m\u001b[0m \u001b[1m0s\u001b[0m 5ms/step - accuracy: 0.8985 - loss: 0.5422 - val_accuracy: 0.9341 - val_loss: 0.5205\n",
      "Epoch 9/20\n",
      "\u001b[1m12/12\u001b[0m \u001b[32m━━━━━━━━━━━━━━━━━━━━\u001b[0m\u001b[37m\u001b[0m \u001b[1m0s\u001b[0m 4ms/step - accuracy: 0.9243 - loss: 0.5124 - val_accuracy: 0.9341 - val_loss: 0.4993\n",
      "Epoch 10/20\n",
      "\u001b[1m12/12\u001b[0m \u001b[32m━━━━━━━━━━━━━━━━━━━━\u001b[0m\u001b[37m\u001b[0m \u001b[1m0s\u001b[0m 5ms/step - accuracy: 0.9332 - loss: 0.4921 - val_accuracy: 0.9341 - val_loss: 0.4798\n",
      "Epoch 11/20\n",
      "\u001b[1m12/12\u001b[0m \u001b[32m━━━━━━━━━━━━━━━━━━━━\u001b[0m\u001b[37m\u001b[0m \u001b[1m0s\u001b[0m 5ms/step - accuracy: 0.9156 - loss: 0.4816 - val_accuracy: 0.9231 - val_loss: 0.4618\n",
      "Epoch 12/20\n",
      "\u001b[1m12/12\u001b[0m \u001b[32m━━━━━━━━━━━━━━━━━━━━\u001b[0m\u001b[37m\u001b[0m \u001b[1m0s\u001b[0m 4ms/step - accuracy: 0.9400 - loss: 0.4482 - val_accuracy: 0.9341 - val_loss: 0.4449\n",
      "Epoch 13/20\n",
      "\u001b[1m12/12\u001b[0m \u001b[32m━━━━━━━━━━━━━━━━━━━━\u001b[0m\u001b[37m\u001b[0m \u001b[1m0s\u001b[0m 4ms/step - accuracy: 0.9288 - loss: 0.4389 - val_accuracy: 0.9341 - val_loss: 0.4292\n",
      "Epoch 14/20\n",
      "\u001b[1m12/12\u001b[0m \u001b[32m━━━━━━━━━━━━━━━━━━━━\u001b[0m\u001b[37m\u001b[0m \u001b[1m0s\u001b[0m 5ms/step - accuracy: 0.9304 - loss: 0.4234 - val_accuracy: 0.9341 - val_loss: 0.4143\n",
      "Epoch 15/20\n",
      "\u001b[1m12/12\u001b[0m \u001b[32m━━━━━━━━━━━━━━━━━━━━\u001b[0m\u001b[37m\u001b[0m \u001b[1m0s\u001b[0m 5ms/step - accuracy: 0.9350 - loss: 0.4102 - val_accuracy: 0.9341 - val_loss: 0.3997\n",
      "Epoch 16/20\n",
      "\u001b[1m12/12\u001b[0m \u001b[32m━━━━━━━━━━━━━━━━━━━━\u001b[0m\u001b[37m\u001b[0m \u001b[1m0s\u001b[0m 4ms/step - accuracy: 0.9478 - loss: 0.3910 - val_accuracy: 0.9341 - val_loss: 0.3859\n",
      "Epoch 17/20\n",
      "\u001b[1m12/12\u001b[0m \u001b[32m━━━━━━━━━━━━━━━━━━━━\u001b[0m\u001b[37m\u001b[0m \u001b[1m0s\u001b[0m 4ms/step - accuracy: 0.9398 - loss: 0.3790 - val_accuracy: 0.9341 - val_loss: 0.3728\n",
      "Epoch 18/20\n",
      "\u001b[1m12/12\u001b[0m \u001b[32m━━━━━━━━━━━━━━━━━━━━\u001b[0m\u001b[37m\u001b[0m \u001b[1m0s\u001b[0m 5ms/step - accuracy: 0.9644 - loss: 0.3580 - val_accuracy: 0.9341 - val_loss: 0.3600\n",
      "Epoch 19/20\n",
      "\u001b[1m12/12\u001b[0m \u001b[32m━━━━━━━━━━━━━━━━━━━━\u001b[0m\u001b[37m\u001b[0m \u001b[1m0s\u001b[0m 4ms/step - accuracy: 0.9441 - loss: 0.3496 - val_accuracy: 0.9341 - val_loss: 0.3479\n",
      "Epoch 20/20\n",
      "\u001b[1m12/12\u001b[0m \u001b[32m━━━━━━━━━━━━━━━━━━━━\u001b[0m\u001b[37m\u001b[0m \u001b[1m0s\u001b[0m 4ms/step - accuracy: 0.9502 - loss: 0.3422 - val_accuracy: 0.9341 - val_loss: 0.3361\n",
      "\u001b[1m4/4\u001b[0m \u001b[32m━━━━━━━━━━━━━━━━━━━━\u001b[0m\u001b[37m\u001b[0m \u001b[1m0s\u001b[0m 2ms/step - accuracy: 0.9558 - loss: 0.3182 \n",
      "Test Accuracy---------: 0.96\n"
     ]
    }
   ],
   "source": [
    "import numpy as np\n",
    "from sklearn.datasets import load_breast_cancer\n",
    "from sklearn.model_selection import train_test_split\n",
    "from sklearn.preprocessing import StandardScaler\n",
    "from tensorflow.keras.models import Sequential\n",
    "from tensorflow.keras.layers import Dense\n",
    "from tensorflow.keras.optimizers import Adam\n",
    "from tensorflow.keras.losses import BinaryCrossentropy\n",
    "from sklearn.metrics import classification_report, confusion_matrix\n",
    "\n",
    "# Load the dataset\n",
    "data = load_breast_cancer()\n",
    "X = data.data\n",
    "y = data.target\n",
    "\n",
    "# Split the data into training and testing sets\n",
    "X_train, X_test, y_train, y_test = train_test_split(X, y, test_size=0.2, random_state=42)\n",
    "\n",
    "# Standardize features\n",
    "scaler = StandardScaler()\n",
    "X_train = scaler.fit_transform(X_train)\n",
    "X_test = scaler.transform(X_test)\n",
    "\n",
    "# Initialize the ANN with layers defined in the constructor\n",
    "model = Sequential([\n",
    "    Dense(units=16, activation='sigmoid', input_shape=(X_train.shape[1],)),\n",
    "    Dense(units=8, activation='sigmoid'),\n",
    "    Dense(units=1, activation='sigmoid')  # For binary classification\n",
    "])\n",
    "\n",
    "# Compile the ANN\n",
    "model.compile(optimizer=Adam(), loss=BinaryCrossentropy(), metrics=['accuracy'])\n",
    "\n",
    "# Train the model\n",
    "history = model.fit(X_train, y_train, epochs=20, validation_split=0.2)\n",
    "\n",
    "# Evaluate the model\n",
    "loss, accuracy = model.evaluate(X_test, y_test)\n",
    "print(f'Test Accuracy---------: {accuracy:.2f}')\n",
    "\n"
   ]
  },
  {
   "cell_type": "markdown",
   "id": "f2282c6c",
   "metadata": {
    "papermill": {
     "duration": 0.007933,
     "end_time": "2024-07-15T15:41:08.092858",
     "exception": false,
     "start_time": "2024-07-15T15:41:08.084925",
     "status": "completed"
    },
    "tags": []
   },
   "source": [
    "# Build custom ANN\n",
    "> adasda"
   ]
  },
  {
   "cell_type": "code",
   "execution_count": 2,
   "id": "aa51874e",
   "metadata": {
    "execution": {
     "iopub.execute_input": "2024-07-15T15:41:08.112068Z",
     "iopub.status.busy": "2024-07-15T15:41:08.110955Z",
     "iopub.status.idle": "2024-07-15T15:41:08.123102Z",
     "shell.execute_reply": "2024-07-15T15:41:08.121909Z"
    },
    "papermill": {
     "duration": 0.023741,
     "end_time": "2024-07-15T15:41:08.125495",
     "exception": false,
     "start_time": "2024-07-15T15:41:08.101754",
     "status": "completed"
    },
    "tags": []
   },
   "outputs": [],
   "source": [
    "class Dense:\n",
    "    def __init__(self,n_inputs,no_of_neurons,activation_function):\n",
    "        self.activation_function = activation_function\n",
    "        self.no_of_neurons = no_of_neurons\n",
    "        self.weights = self.initialize_weights(n_inputs,no_of_neurons) # n_inputs = no of featurees\n",
    "        self.bias = self.initialize_weights(no_of_neurons)\n",
    "        self.Z = None\n",
    "        self.H = None\n",
    "        self.d_weights = None\n",
    "        self.d_bias = None\n",
    "    \n",
    "    def initialize_weights(self,*args):\n",
    "        \"\"\"\n",
    "        Initialize the weights with random values\n",
    "        \"\"\"\n",
    "        if len(args) == 2:\n",
    "            print(\"initializing weights\")\n",
    "            weights = 0.10*np.random.rand(args[0],args[1])\n",
    "            print(\"shape_weights=\",weights.shape)\n",
    "            return weights\n",
    "        elif len(args) == 1:\n",
    "            print(\"initializing bias\")\n",
    "            bias = np.zeros((1,args[0]))\n",
    "            print(\"shape_bias=\",bias.shape)\n",
    "            return bias\n",
    "    \n",
    "    def forward(self,inputs):\n",
    "        \"\"\"\n",
    "        Perform forward propagation on the layer\n",
    "        \"\"\"\n",
    "        self.Z = np.dot(inputs,self.weights) + self.bias\n",
    "        self.H = self.activation(self.Z)\n",
    "        return self.H\n",
    "        \n",
    "    def activation(self,inputs):\n",
    "        \"\"\"\n",
    "        Apply activation function on the input based on the activation function given as parameter on Dense()\n",
    "        \"\"\"\n",
    "        if self.activation_function ==\"sigmoid\":\n",
    "            output = 1/(1+np.exp(-inputs))\n",
    "        return output\n",
    "    \n",
    "    def activation_derivative(self,inputs):\n",
    "        \"\"\"\n",
    "        computes the derivative of the activatn function\n",
    "        \"\"\"\n",
    "        if self.activation_function == \"sigmoid\":\n",
    "            output = inputs*(1-inputs)\n",
    "        return output\n",
    "            "
   ]
  },
  {
   "cell_type": "code",
   "execution_count": 3,
   "id": "63231467",
   "metadata": {
    "execution": {
     "iopub.execute_input": "2024-07-15T15:41:08.144202Z",
     "iopub.status.busy": "2024-07-15T15:41:08.143119Z",
     "iopub.status.idle": "2024-07-15T15:41:08.164602Z",
     "shell.execute_reply": "2024-07-15T15:41:08.163401Z"
    },
    "papermill": {
     "duration": 0.033444,
     "end_time": "2024-07-15T15:41:08.166872",
     "exception": false,
     "start_time": "2024-07-15T15:41:08.133428",
     "status": "completed"
    },
    "tags": []
   },
   "outputs": [],
   "source": [
    "class Sequential:\n",
    "    def __init__(self,layers_list):\n",
    "        self.layers_list = layers_list   \n",
    "        \n",
    "    def convert_df_to_tensor(self, df):\n",
    "        if df.ndim == 1:\n",
    "            output = np.expand_dims(df,axis=1)\n",
    "            return output\n",
    "        output = np.array(df)\n",
    "        return output\n",
    "    \n",
    "    def train(self,X,y):\n",
    "        output = X\n",
    "        for layer in self.layers_list:\n",
    "            output = layer.forward(output)\n",
    "        loss=self.cal_loss(y_pred=output,y_true = y)\n",
    "        metric=self.cal_metric(y_pred_prob=output,y_true = y)\n",
    "        # print(\"forward_propagation\\n=\",output)\n",
    "        # print(\"loss=\",loss)\n",
    "        # print(\"metric=\",metric)\n",
    "        return output,loss,metric\n",
    "\n",
    "    def evaluate(self,X,y):\n",
    "        \"\"\"\n",
    "        Performes forward_propagation on the layers to get the prediction\n",
    "        \"\"\"\n",
    "        output = X\n",
    "        for layer in self.layers_list:\n",
    "            output = layer.activation(np.dot(output,layer.weights) + layer.bias)\n",
    "        loss=self.cal_loss(y_pred=output,y_true = y)\n",
    "        metric=self.cal_metric(y_pred_prob=output,y_true = y)\n",
    "        return output,loss,metric\n",
    "        \n",
    "    def fit(self,train,val,epochs):\n",
    "    \n",
    "        # convert the data frame to tensor input\n",
    "        X_train=self.convert_df_to_tensor(train[0])\n",
    "        y_train=self.convert_df_to_tensor(train[1])\n",
    "        X_val=self.convert_df_to_tensor(val[0])\n",
    "        y_val=self.convert_df_to_tensor(val[1])\n",
    "        print(f\"X_train={X_train.shape},y_train={y_train.shape},X_val={X_val.shape},y_val{y_val.shape}\")\n",
    "        \n",
    "        for epoch in range(epochs):\n",
    "            train_output,train_loss,train_accuracy = self.train(X_train,y_train)\n",
    "            val_output,val_loss,val_accuracy = self.evaluate(X_val,y_val)\n",
    "            print(f'epoch={epoch+1},loss={train_loss},accuracy={train_accuracy},validation loss={val_loss},validation accuracy={val_accuracy}')\n",
    "            self.back_propagation(X=X_train,y_pred=train_output,y_true=y_train) \n",
    "            self.update_weights()\n",
    "        \n",
    "        train_output,train_loss,train_accuracy = self.evaluate(X_train,y_train)\n",
    "        val_output,val_loss,val_accuracy = self.evaluate(X_val,y_val)\n",
    "        print(f'loss={train_loss},accuracy={train_accuracy},validation loss={val_loss},validation accuracy={val_accuracy}')\n",
    "\n",
    "    def compile_(self,optimizer,loss,metrics,learning_rate):\n",
    "        self.optimizer=optimizer\n",
    "        self.loss_function=loss\n",
    "        self.metrics=metrics\n",
    "        self.learning_rate=learning_rate\n",
    "        \n",
    "    def back_propagation(self,X,y_pred,y_true):\n",
    "        m = X.shape[0]\n",
    "        # print(\"perform backpropagation\")\n",
    "        \n",
    "        for i in range(len(self.layers_list)-1, -1, -1):  \n",
    "            current_layer = self.layers_list[i]\n",
    "            current_layer_H = current_layer.H\n",
    "            if i == 0 :\n",
    "                prefix_layer_H = X\n",
    "            else:\n",
    "                prefix_layer = self.layers_list[i-1]\n",
    "                prefix_layer_H = prefix_layer.H\n",
    "                \n",
    "            if i == len(self.layers_list)-1:\n",
    "                # output layer\n",
    "                error = y_pred-y_true\n",
    "                current_layer.d_weights = (1/m)*np.dot(prefix_layer_H.T,error)\n",
    "                current_layer.d_bias = (1/m)*np.sum(error,axis=0,keepdims=True)\n",
    "                suffix_layer_d_H = error\n",
    "            else:\n",
    "                suffix_layer = self.layers_list[i+1]\n",
    "                \n",
    "                current_layer_d_H = np.dot(suffix_layer_d_H,suffix_layer.weights.T)* current_layer.activation_derivative(current_layer_H)\n",
    "                current_layer.d_weights  = (1/m)*np.dot(prefix_layer_H.T,current_layer_d_H)\n",
    "                current_layer.d_bias = (1/m)*np.sum(current_layer_d_H,axis=0,keepdims=True)\n",
    "                \n",
    "                suffix_layer_d_H = current_layer_d_H\n",
    "        \n",
    "    def update_weights(self):\n",
    "        if self.optimizer == \"Stochastic_Gradient_Descent\":\n",
    "            for layer in self.layers_list:\n",
    "                layer.weights = layer.weights-self.learning_rate * layer.d_weights\n",
    "                layer.bias = layer.bias-self.learning_rate * layer.d_bias\n",
    "    \n",
    "    def cal_loss(self,y_pred,y_true):\n",
    "        epsilon = 1e-15  # To prevent log(0)\n",
    "        y_pred = np.clip(y_pred, epsilon, 1 - epsilon)  # Clipping predicted values\n",
    "        if self.loss_function == \"Binary_Cross_Entropy\":\n",
    "            # Binary cross-entropy for a single label\n",
    "            loss = y_true * np.log(y_pred) + (1 - y_true) * np.log(1 - y_pred)\n",
    "            return -np.mean(loss)\n",
    "            \n",
    "    def cal_metric(self,y_pred_prob,y_true):\n",
    "        class_target=y_true\n",
    "        for metric in self.metrics:\n",
    "            if metric == \"accuracy\":\n",
    "                threshold = 0.5\n",
    "                predictions = (y_pred_prob >= threshold).astype(int)\n",
    "                accuracy = np.mean(predictions == class_target)\n",
    "                return accuracy"
   ]
  },
  {
   "cell_type": "code",
   "execution_count": 4,
   "id": "d9be8ef7",
   "metadata": {
    "execution": {
     "iopub.execute_input": "2024-07-15T15:41:08.184555Z",
     "iopub.status.busy": "2024-07-15T15:41:08.184115Z",
     "iopub.status.idle": "2024-07-15T15:41:08.202415Z",
     "shell.execute_reply": "2024-07-15T15:41:08.201312Z"
    },
    "papermill": {
     "duration": 0.030241,
     "end_time": "2024-07-15T15:41:08.204935",
     "exception": false,
     "start_time": "2024-07-15T15:41:08.174694",
     "status": "completed"
    },
    "tags": []
   },
   "outputs": [],
   "source": [
    "# Load the dataset\n",
    "data = load_breast_cancer()\n",
    "X = data.data\n",
    "y = data.target\n",
    "\n",
    "# Split data into training + validation and test sets\n",
    "X_train, X_test, y_train, y_test = train_test_split(X, y, test_size=0.2)\n",
    "\n",
    "# Further split the training data into training and validation sets\n",
    "X_train, X_val, y_train, y_val = train_test_split(X_train, y_train, test_size=0.25)\n",
    "\n",
    "# Standardize features\n",
    "scaler = StandardScaler()\n",
    "X_train = scaler.fit_transform(X_train)\n",
    "X_test = scaler.transform(X_test)\n",
    "X_val = scaler.transform(X_val)"
   ]
  },
  {
   "cell_type": "code",
   "execution_count": 5,
   "id": "a60ac9bc",
   "metadata": {
    "execution": {
     "iopub.execute_input": "2024-07-15T15:41:08.222702Z",
     "iopub.status.busy": "2024-07-15T15:41:08.222300Z",
     "iopub.status.idle": "2024-07-15T15:41:08.289127Z",
     "shell.execute_reply": "2024-07-15T15:41:08.287782Z"
    },
    "papermill": {
     "duration": 0.078821,
     "end_time": "2024-07-15T15:41:08.291576",
     "exception": false,
     "start_time": "2024-07-15T15:41:08.212755",
     "status": "completed"
    },
    "tags": []
   },
   "outputs": [
    {
     "name": "stdout",
     "output_type": "stream",
     "text": [
      "initializing weights\n",
      "shape_weights= (30, 8)\n",
      "initializing bias\n",
      "shape_bias= (1, 8)\n",
      "initializing weights\n",
      "shape_weights= (8, 5)\n",
      "initializing bias\n",
      "shape_bias= (1, 5)\n",
      "initializing weights\n",
      "shape_weights= (5, 1)\n",
      "initializing bias\n",
      "shape_bias= (1, 1)\n",
      "X_train=(341, 30),y_train=(341, 1),X_val=(114, 30),y_val(114, 1)\n",
      "epoch=1,loss=0.6747978319090215,accuracy=0.6363636363636364,validation loss=0.6598397062352778,validation accuracy=0.7192982456140351\n",
      "epoch=2,loss=0.6622731338643296,accuracy=0.6363636363636364,validation loss=0.6298283217089502,validation accuracy=0.7192982456140351\n",
      "epoch=3,loss=0.6600556812422029,accuracy=0.6363636363636364,validation loss=0.6207129238047674,validation accuracy=0.7192982456140351\n",
      "epoch=4,loss=0.6594115195180996,accuracy=0.6363636363636364,validation loss=0.617232419845331,validation accuracy=0.7192982456140351\n",
      "epoch=5,loss=0.6590339163376885,accuracy=0.6363636363636364,validation loss=0.6156263891289666,validation accuracy=0.7192982456140351\n",
      "epoch=6,loss=0.6587134715646649,accuracy=0.6363636363636364,validation loss=0.6147282676806275,validation accuracy=0.7192982456140351\n",
      "epoch=7,loss=0.6584140826039631,accuracy=0.6363636363636364,validation loss=0.6141189814060167,validation accuracy=0.7192982456140351\n",
      "epoch=8,loss=0.6581282824620975,accuracy=0.6363636363636364,validation loss=0.6136353765378576,validation accuracy=0.7192982456140351\n",
      "epoch=9,loss=0.6578535217426077,accuracy=0.6363636363636364,validation loss=0.6132108749459417,validation accuracy=0.7192982456140351\n",
      "epoch=10,loss=0.6575881530050728,accuracy=0.6363636363636364,validation loss=0.6128172238702466,validation accuracy=0.7192982456140351\n",
      "epoch=11,loss=0.6573307266510928,accuracy=0.6363636363636364,validation loss=0.6124417955224781,validation accuracy=0.7192982456140351\n",
      "epoch=12,loss=0.6570798571274098,accuracy=0.6363636363636364,validation loss=0.6120784399193873,validation accuracy=0.7192982456140351\n",
      "epoch=13,loss=0.6568341897310406,accuracy=0.6363636363636364,validation loss=0.6117237267440881,validation accuracy=0.7192982456140351\n",
      "epoch=14,loss=0.6565923856352059,accuracy=0.6363636363636364,validation loss=0.6113753792316887,validation accuracy=0.7192982456140351\n",
      "epoch=15,loss=0.6563531102402693,accuracy=0.6363636363636364,validation loss=0.6110316120870292,validation accuracy=0.7192982456140351\n",
      "epoch=16,loss=0.6561150219861533,accuracy=0.6363636363636364,validation loss=0.610690845864779,validation accuracy=0.7192982456140351\n",
      "epoch=17,loss=0.6558767609690443,accuracy=0.6363636363636364,validation loss=0.6103515792569254,validation accuracy=0.7192982456140351\n",
      "epoch=18,loss=0.6556369371227523,accuracy=0.6363636363636364,validation loss=0.610012327914298,validation accuracy=0.7192982456140351\n",
      "epoch=19,loss=0.6553941178038946,accuracy=0.6363636363636364,validation loss=0.6096715912676715,validation accuracy=0.7192982456140351\n",
      "epoch=20,loss=0.6551468146304245,accuracy=0.6363636363636364,validation loss=0.6093278309385735,validation accuracy=0.7192982456140351\n",
      "epoch=21,loss=0.6548934694178979,accuracy=0.6363636363636364,validation loss=0.6089794536578191,validation accuracy=0.7192982456140351\n",
      "epoch=22,loss=0.6546324390486169,accuracy=0.6363636363636364,validation loss=0.6086247955663329,validation accuracy=0.7192982456140351\n",
      "epoch=23,loss=0.6543619790983397,accuracy=0.6363636363636364,validation loss=0.6082621064592201,validation accuracy=0.7192982456140351\n",
      "epoch=24,loss=0.6540802260347868,accuracy=0.6363636363636364,validation loss=0.6078895332550861,validation accuracy=0.7192982456140351\n",
      "epoch=25,loss=0.6537851777926074,accuracy=0.6363636363636364,validation loss=0.6075051022811023,validation accuracy=0.7192982456140351\n",
      "epoch=26,loss=0.6534746725218509,accuracy=0.6363636363636364,validation loss=0.6071067000966339,validation accuracy=0.7192982456140351\n",
      "epoch=27,loss=0.6531463653026303,accuracy=0.6363636363636364,validation loss=0.6066920526364229,validation accuracy=0.7192982456140351\n",
      "epoch=28,loss=0.6527977026193255,accuracy=0.6363636363636364,validation loss=0.6062587024835173,validation accuracy=0.7192982456140351\n",
      "epoch=29,loss=0.6524258943955493,accuracy=0.6363636363636364,validation loss=0.6058039841032384,validation accuracy=0.7192982456140351\n",
      "epoch=30,loss=0.6520278834090291,accuracy=0.6363636363636364,validation loss=0.6053249968932207,validation accuracy=0.7192982456140351\n",
      "epoch=31,loss=0.6516003119369558,accuracy=0.6363636363636364,validation loss=0.6048185759376928,validation accuracy=0.7192982456140351\n",
      "epoch=32,loss=0.6511394855314097,accuracy=0.6363636363636364,validation loss=0.6042812604019495,validation accuracy=0.7192982456140351\n",
      "epoch=33,loss=0.6506413338959859,accuracy=0.6363636363636364,validation loss=0.6037092595704874,validation accuracy=0.7192982456140351\n",
      "epoch=34,loss=0.6501013689341176,accuracy=0.6363636363636364,validation loss=0.603098416624666,validation accuracy=0.7192982456140351\n",
      "epoch=35,loss=0.6495146401725366,accuracy=0.6363636363636364,validation loss=0.6024441703783987,validation accuracy=0.7192982456140351\n",
      "epoch=36,loss=0.6488756879353516,accuracy=0.6363636363636364,validation loss=0.6017415153484307,validation accuracy=0.7192982456140351\n",
      "epoch=37,loss=0.6481784948600003,accuracy=0.6363636363636364,validation loss=0.6009849607337236,validation accuracy=0.7192982456140351\n",
      "epoch=38,loss=0.6474164366084015,accuracy=0.6363636363636364,validation loss=0.6001684891190785,validation accuracy=0.7192982456140351\n",
      "epoch=39,loss=0.6465822329340122,accuracy=0.6363636363636364,validation loss=0.5992855160012385,validation accuracy=0.7192982456140351\n",
      "epoch=40,loss=0.6456679006115827,accuracy=0.6363636363636364,validation loss=0.598328851556287,validation accuracy=0.7192982456140351\n",
      "epoch=41,loss=0.6446647101067264,accuracy=0.6363636363636364,validation loss=0.5972906664134667,validation accuracy=0.7192982456140351\n",
      "epoch=42,loss=0.643563148232126,accuracy=0.6363636363636364,validation loss=0.5961624635516807,validation accuracy=0.7192982456140351\n",
      "epoch=43,loss=0.6423528893690611,accuracy=0.6363636363636364,validation loss=0.5949350587589476,validation accuracy=0.7192982456140351\n",
      "epoch=44,loss=0.6410227780762476,accuracy=0.6363636363636364,validation loss=0.5935985723476946,validation accuracy=0.7192982456140351\n",
      "epoch=45,loss=0.6395608259999684,accuracy=0.6363636363636364,validation loss=0.5921424349440565,validation accuracy=0.7192982456140351\n",
      "epoch=46,loss=0.6379542258697355,accuracy=0.6363636363636364,validation loss=0.590555410103159,validation accuracy=0.7192982456140351\n",
      "epoch=47,loss=0.6361893849437643,accuracy=0.6363636363636364,validation loss=0.5888256361797929,validation accuracy=0.7192982456140351\n",
      "epoch=48,loss=0.634251979506234,accuracy=0.6363636363636364,validation loss=0.5869406892515769,validation accuracy=0.7192982456140351\n",
      "epoch=49,loss=0.6321270308975752,accuracy=0.6363636363636364,validation loss=0.584887667924474,validation accuracy=0.7192982456140351\n",
      "epoch=50,loss=0.6297990021215414,accuracy=0.6363636363636364,validation loss=0.5826532995707994,validation accuracy=0.7192982456140351\n",
      "epoch=51,loss=0.6272519124373334,accuracy=0.6363636363636364,validation loss=0.5802240660454773,validation accuracy=0.7192982456140351\n",
      "epoch=52,loss=0.6244694657165362,accuracy=0.6363636363636364,validation loss=0.5775863453607173,validation accuracy=0.7192982456140351\n",
      "epoch=53,loss=0.6214351870051946,accuracy=0.6363636363636364,validation loss=0.5747265644065868,validation accuracy=0.7192982456140351\n",
      "epoch=54,loss=0.6181325610058986,accuracy=0.6363636363636364,validation loss=0.5716313568635436,validation accuracy=0.7192982456140351\n",
      "epoch=55,loss=0.6145451663901702,accuracy=0.6363636363636364,validation loss=0.5682877202358555,validation accuracy=0.7192982456140351\n",
      "epoch=56,loss=0.6106568011767335,accuracy=0.6363636363636364,validation loss=0.5646831666417924,validation accuracy=0.7192982456140351\n",
      "epoch=57,loss=0.6064515968956355,accuracy=0.6363636363636364,validation loss=0.5608058636828144,validation accuracy=0.7192982456140351\n",
      "epoch=58,loss=0.6019141226923067,accuracy=0.6363636363636364,validation loss=0.5566447642360387,validation accuracy=0.7192982456140351\n",
      "epoch=59,loss=0.5970294844499839,accuracy=0.6363636363636364,validation loss=0.5521897270143888,validation accuracy=0.7192982456140351\n",
      "epoch=60,loss=0.5917834277654964,accuracy=0.6363636363636364,validation loss=0.5474316326840658,validation accuracy=0.7192982456140351\n",
      "epoch=61,loss=0.586162456459089,accuracy=0.6363636363636364,validation loss=0.5423625026043074,validation accuracy=0.7192982456140351\n",
      "epoch=62,loss=0.5801539795597719,accuracy=0.6363636363636364,validation loss=0.5369756282939109,validation accuracy=0.7192982456140351\n",
      "epoch=63,loss=0.5737464989400445,accuracy=0.6363636363636364,validation loss=0.5312657191558224,validation accuracy=0.7192982456140351\n",
      "epoch=64,loss=0.5669298468937565,accuracy=0.6363636363636364,validation loss=0.5252290737318397,validation accuracy=0.7192982456140351\n",
      "epoch=65,loss=0.5596954782987942,accuracy=0.6363636363636364,validation loss=0.5188637761030324,validation accuracy=0.7192982456140351\n",
      "epoch=66,loss=0.5520368163254332,accuracy=0.6363636363636364,validation loss=0.5121699146322078,validation accuracy=0.7192982456140351\n",
      "epoch=67,loss=0.5439496449689987,accuracy=0.6363636363636364,validation loss=0.5051498159407228,validation accuracy=0.7192982456140351\n",
      "epoch=68,loss=0.5354325370988317,accuracy=0.6363636363636364,validation loss=0.49780828376146763,validation accuracy=0.7192982456140351\n",
      "epoch=69,loss=0.5264873040972576,accuracy=0.6363636363636364,validation loss=0.49015283086433353,validation accuracy=0.7192982456140351\n",
      "epoch=70,loss=0.5171194528328019,accuracy=0.6363636363636364,validation loss=0.4821938929042904,validation accuracy=0.7192982456140351\n",
      "epoch=71,loss=0.5073386371597385,accuracy=0.6363636363636364,validation loss=0.4739450154087449,validation accuracy=0.7192982456140351\n",
      "epoch=72,loss=0.4971590929068056,accuracy=0.6363636363636364,validation loss=0.4654230080494343,validation accuracy=0.7192982456140351\n",
      "epoch=73,loss=0.4866000452093389,accuracy=0.6891495601173021,validation loss=0.45664806207886227,validation accuracy=0.7368421052631579\n",
      "epoch=74,loss=0.47568607270617874,accuracy=0.7800586510263929,validation loss=0.447643825462298,validation accuracy=0.8508771929824561\n",
      "epoch=75,loss=0.4644474030900225,accuracy=0.8211143695014663,validation loss=0.43843742454977797,validation accuracy=0.8859649122807017\n",
      "epoch=76,loss=0.4529200993819759,accuracy=0.8680351906158358,validation loss=0.4290594114016831,validation accuracy=0.9035087719298246\n",
      "epoch=77,loss=0.44114607976353587,accuracy=0.8885630498533724,validation loss=0.41954360465287766,validation accuracy=0.9210526315789473\n",
      "epoch=78,loss=0.4291729025577318,accuracy=0.9090909090909091,validation loss=0.4099267838701418,validation accuracy=0.9385964912280702\n",
      "epoch=79,loss=0.41705325013894257,accuracy=0.9208211143695014,validation loss=0.4002481985888718,validation accuracy=0.9473684210526315\n",
      "epoch=80,loss=0.40484406737406536,accuracy=0.9266862170087976,validation loss=0.39054886813124007,validation accuracy=0.9473684210526315\n",
      "epoch=81,loss=0.3926053519723399,accuracy=0.9325513196480938,validation loss=0.3808706772409687,validation accuracy=0.9385964912280702\n",
      "epoch=82,loss=0.3803986479552226,accuracy=0.9325513196480938,validation loss=0.3712553099496059,validation accuracy=0.9385964912280702\n",
      "epoch=83,loss=0.36828534483514785,accuracy=0.9354838709677419,validation loss=0.36174309946035865,validation accuracy=0.9298245614035088\n",
      "epoch=84,loss=0.3563249186487156,accuracy=0.9413489736070382,validation loss=0.35237189385302625,validation accuracy=0.9298245614035088\n",
      "epoch=85,loss=0.34457325768476116,accuracy=0.9472140762463344,validation loss=0.34317603898866184,validation accuracy=0.9298245614035088\n",
      "epoch=86,loss=0.33308119691791216,accuracy=0.9442815249266863,validation loss=0.33418556155496565,validation accuracy=0.9210526315789473\n",
      "epoch=87,loss=0.3218933506425974,accuracy=0.9501466275659824,validation loss=0.3254256040027913,validation accuracy=0.9210526315789473\n",
      "epoch=88,loss=0.3110472945718214,accuracy=0.9530791788856305,validation loss=0.3169161291924993,validation accuracy=0.9210526315789473\n",
      "epoch=89,loss=0.3005731146586703,accuracy=0.9501466275659824,validation loss=0.30867188395505346,validation accuracy=0.9210526315789473\n",
      "epoch=90,loss=0.290493312121411,accuracy=0.9501466275659824,validation loss=0.3007025910419169,validation accuracy=0.9210526315789473\n",
      "epoch=91,loss=0.28082303122985053,accuracy=0.9530791788856305,validation loss=0.2930133276429033,validation accuracy=0.9210526315789473\n",
      "epoch=92,loss=0.271570557380168,accuracy=0.9560117302052786,validation loss=0.2856050435659813,validation accuracy=0.9298245614035088\n",
      "epoch=93,loss=0.26273801901844696,accuracy=0.9560117302052786,validation loss=0.27847517130537336,validation accuracy=0.9385964912280702\n",
      "epoch=94,loss=0.25432222031547913,accuracy=0.9648093841642229,validation loss=0.2716182825097911,validation accuracy=0.9385964912280702\n",
      "epoch=95,loss=0.24631553336476436,accuracy=0.967741935483871,validation loss=0.2650267502664347,validation accuracy=0.9385964912280702\n",
      "epoch=96,loss=0.23870678810006463,accuracy=0.9706744868035191,validation loss=0.2586913835122213,validation accuracy=0.9385964912280702\n",
      "epoch=97,loss=0.23148211233989516,accuracy=0.9706744868035191,validation loss=0.25260200782706677,validation accuracy=0.9385964912280702\n",
      "epoch=98,loss=0.2246256900561876,accuracy=0.9706744868035191,validation loss=0.24674797479622831,validation accuracy=0.9473684210526315\n",
      "epoch=99,loss=0.21812042043209934,accuracy=0.9706744868035191,validation loss=0.24111858921419993,validation accuracy=0.956140350877193\n",
      "epoch=100,loss=0.21194847195352481,accuracy=0.9706744868035191,validation loss=0.23570344923254766,validation accuracy=0.956140350877193\n",
      "loss=0.20609173418583207,accuracy=0.9706744868035191,validation loss=0.23049269913784542,validation accuracy=0.956140350877193\n"
     ]
    }
   ],
   "source": [
    "model = Sequential([\n",
    "    Dense(X_train.shape[1],8, activation_function='sigmoid'),  \n",
    "    Dense(8,5, activation_function='sigmoid'),  \n",
    "    Dense(5,1, activation_function='sigmoid')  \n",
    "])\n",
    "model.compile_(optimizer='Stochastic_Gradient_Descent',loss='Binary_Cross_Entropy',metrics=['accuracy'],learning_rate=1)\n",
    "model.fit(train=(X_train,y_train),val=(X_val,y_val),epochs=100)"
   ]
  },
  {
   "cell_type": "code",
   "execution_count": 6,
   "id": "62700d6c",
   "metadata": {
    "execution": {
     "iopub.execute_input": "2024-07-15T15:41:08.310405Z",
     "iopub.status.busy": "2024-07-15T15:41:08.309996Z",
     "iopub.status.idle": "2024-07-15T15:41:08.317632Z",
     "shell.execute_reply": "2024-07-15T15:41:08.316605Z"
    },
    "papermill": {
     "duration": 0.020113,
     "end_time": "2024-07-15T15:41:08.320004",
     "exception": false,
     "start_time": "2024-07-15T15:41:08.299891",
     "status": "completed"
    },
    "tags": []
   },
   "outputs": [
    {
     "name": "stdout",
     "output_type": "stream",
     "text": [
      "test_dataset loss= 0.23059910903765293\n",
      "test_dataset accuracy= 0.9473684210526315\n"
     ]
    }
   ],
   "source": [
    "_,loss,metric=model.evaluate(X_test,np.expand_dims(y_test,axis=1))\n",
    "print(\"test_dataset loss=\",loss)\n",
    "print(\"test_dataset accuracy=\",metric)"
   ]
  },
  {
   "cell_type": "markdown",
   "id": "099e2a47",
   "metadata": {
    "papermill": {
     "duration": 0.009261,
     "end_time": "2024-07-15T15:41:08.337700",
     "exception": false,
     "start_time": "2024-07-15T15:41:08.328439",
     "status": "completed"
    },
    "tags": []
   },
   "source": [
    "to do\n",
    "* add more activation functions\n",
    "* add more optimization methods\n",
    "* add more metric\n",
    "* make modification for regression"
   ]
  },
  {
   "cell_type": "code",
   "execution_count": null,
   "id": "4d88e500",
   "metadata": {
    "papermill": {
     "duration": 0.009211,
     "end_time": "2024-07-15T15:41:08.355838",
     "exception": false,
     "start_time": "2024-07-15T15:41:08.346627",
     "status": "completed"
    },
    "tags": []
   },
   "outputs": [],
   "source": []
  }
 ],
 "metadata": {
  "kaggle": {
   "accelerator": "none",
   "dataSources": [],
   "dockerImageVersionId": 30732,
   "isGpuEnabled": false,
   "isInternetEnabled": true,
   "language": "python",
   "sourceType": "notebook"
  },
  "kernelspec": {
   "display_name": "Python 3",
   "language": "python",
   "name": "python3"
  },
  "language_info": {
   "codemirror_mode": {
    "name": "ipython",
    "version": 3
   },
   "file_extension": ".py",
   "mimetype": "text/x-python",
   "name": "python",
   "nbconvert_exporter": "python",
   "pygments_lexer": "ipython3",
   "version": "3.10.13"
  },
  "papermill": {
   "default_parameters": {},
   "duration": 25.81875,
   "end_time": "2024-07-15T15:41:09.991499",
   "environment_variables": {},
   "exception": null,
   "input_path": "__notebook__.ipynb",
   "output_path": "__notebook__.ipynb",
   "parameters": {},
   "start_time": "2024-07-15T15:40:44.172749",
   "version": "2.5.0"
  }
 },
 "nbformat": 4,
 "nbformat_minor": 5
}
